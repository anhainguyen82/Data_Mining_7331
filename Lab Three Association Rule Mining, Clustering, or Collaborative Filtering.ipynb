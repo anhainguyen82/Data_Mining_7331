{
 "cells": [
  {
   "cell_type": "markdown",
   "metadata": {},
   "source": [
    "# <center>Lab Three Association Rule Mining, Clustering, or Collaborative Filtering</center>\n",
    "<center><font size = \"4\"> Australian Weather Station Collection Data 2007-2017</font></center>\n",
    "\n",
    "##### <center>Create by An Nguyen, Andy Ho, Jodi Pafford</center>\n",
    "<center> April 14, 2019</center>"
   ]
  },
  {
   "cell_type": "markdown",
   "metadata": {},
   "source": [
    "# Total Points"
   ]
  },
  {
   "cell_type": "markdown",
   "metadata": {},
   "source": [
    "# Business Understanding\n",
    "<b>Describe the purpose of the data set you selected (i.e.,why was this data collected in the first place?). How will you measure the effectiveness of a good algorithm? Why does your chosen validation method make sense for this specific dataset and the stakeholders needs?</b>\n",
    "\n"
   ]
  },
  {
   "cell_type": "markdown",
   "metadata": {},
   "source": [
    "This project is based off of a rainfal prediction dataset from Australia. The original data file named 'weatherAus.csv' was outputted as 'rainfall.csv' after our pre-processing.  The data set contains daily weather observations from numerous Australian weather stations.  The daily observations are available from http://www.bom.gov.au/climate/data. Copyright Commonwealth of Australia 2010, Bureau of Meteorology.  \n",
    "\n",
    "The following is the data meaning types for the features used for Lab Two (19 variables by class type):\n",
    "\n",
    "- Int64: RainToday, RainTomorrow\n",
    "- Float64: MinTemp, MaxTemp, Rainfall, WindGustDir, WindGustSpeed, WindDir9am, WindDir3pm, WindSpeed9am, WindSpeed3pm, Humidity9am, Humidity3pm, Pressure9am, Pressure3pm, Cloud9am, Cloud3pm, Temp9am, Temp3pm\n",
    "\n",
    "Codebook in its entirety can be found at https://www.kaggle.com/jsphyg/weather-dataset-rattle-package.\n",
    "\n",
    "The original data set had 140,787 observations and 24 features.  After pre-processing, dimension reduction occurred leaving the new data set at 101,328 observations and 19 features.  Observations were removed if it contained any NaNs within its features.  The following features were removed:\n",
    "\n",
    "- Evaporation : Too many NaNs to impute\n",
    "- Sunshine: Too many NaNs to impute\n",
    "- Date: Feature not required for classification and/or prediction\n",
    "- Location: Feature not required since we're predicting rain or not for Australia and not by cities\n",
    "- RISK_MM: Feature not required since it measures the amount of rain.  Would impact modeling results.\n",
    "\n",
    "We also decided for classification/regression purposes, to convert the \"Cardinal Directions\" to degrees.  For example, N':0, 'NNE':22.5, 'NE':45, 'NE':45, and so on. \n",
    "\n",
    "The reduction of features will help make our proposed model simpler and mitigate the probabiilty of overfitting.  Since the data set has over a hundred thousand observations, we had sufficient number of observations that removing the observations with NaNs would not interfere with our training and test set results (i.e. accuracy).\n",
    "\n",
    "Further modeling and various evaluations will be required to better understand which measure are most appropriate for analyzing the results of our modeling.  \n",
    "\n",
    "This algorithm will be measured for effectiveness using ________________\n",
    "\n",
    "We will be using  ________________ for validation."
   ]
  },
  {
   "cell_type": "markdown",
   "metadata": {},
   "source": [
    "# Data Understanding 1\n",
    "<b>Visualize the any important attributes appropriately. Important: Provide an interpretation for any charts or graphs.</b>"
   ]
  },
  {
   "cell_type": "code",
   "execution_count": 1,
   "metadata": {},
   "outputs": [
    {
     "name": "stdout",
     "output_type": "stream",
     "text": [
      "BadgerysCreek\n",
      "Newcastle\n",
      "NorahHead\n",
      "Penrith\n",
      "Tuggeranong\n",
      "MountGinini\n",
      "Nhil\n",
      "Dartmoor\n",
      "GoldCoast\n",
      "Adelaide\n",
      "Albany\n",
      "Witchcliffe\n",
      "SalmonGums\n",
      "Walpole\n"
     ]
    }
   ],
   "source": [
    "import seaborn\n",
    "import pandas\n",
    "\n",
    "#Assign values to response variable, y, and explanatory variables, x.\n",
    "rainfall = pandas.read_csv('rainfall.csv', index_col=0) \n",
    "temp_rainfall = rainfall.copy()\n",
    "\n",
    "# Visualising missing data:\n",
    "seaborn.heatmap(temp_rainfall.isnull(),yticklabels=False,cbar=False,cmap='Reds_r')\n",
    "\n",
    "#Variables 'Evaporation' and 'Sunshine' contained many missing values, too many to be imputed.\n",
    "temp_rainfall = temp_rainfall.drop(['Evaporation', 'Sunshine'], axis = 1)\n",
    "\n",
    "#Get name of all cities in the data frame.\n",
    "l = list(temp_rainfall.Location.unique())\n",
    "\n",
    "#Drop all observations with NaN's.  These are values that could not be imputed using the above code.\n",
    "temp_rainfall.dropna(subset = list(temp_rainfall), inplace = True)\n",
    "\n",
    "#List all cities that were dropped\n",
    "for i in l:\n",
    "    if i not in temp_rainfall.Location.unique():\n",
    "        print(i)\n",
    "        \n",
    "#'Date' and 'Location' variables not needed for prediction. \n",
    "temp_rainfall = temp_rainfall.drop(['Date', 'Location'], axis = 1)"
   ]
  },
  {
   "cell_type": "code",
   "execution_count": 2,
   "metadata": {},
   "outputs": [
    {
     "name": "stdout",
     "output_type": "stream",
     "text": [
      "<class 'pandas.core.frame.DataFrame'>\n",
      "Int64Index: 101328 entries, 0 to 140786\n",
      "Data columns (total 19 columns):\n",
      "MinTemp          101328 non-null float64\n",
      "MaxTemp          101328 non-null float64\n",
      "Rainfall         101328 non-null float64\n",
      "WindGustDir      101328 non-null float64\n",
      "WindGustSpeed    101328 non-null float64\n",
      "WindDir9am       101328 non-null float64\n",
      "WindDir3pm       101328 non-null float64\n",
      "WindSpeed9am     101328 non-null float64\n",
      "WindSpeed3pm     101328 non-null float64\n",
      "Humidity9am      101328 non-null float64\n",
      "Humidity3pm      101328 non-null float64\n",
      "Pressure9am      101328 non-null float64\n",
      "Pressure3pm      101328 non-null float64\n",
      "Cloud9am         101328 non-null float64\n",
      "Cloud3pm         101328 non-null float64\n",
      "Temp9am          101328 non-null float64\n",
      "Temp3pm          101328 non-null float64\n",
      "RainToday        101328 non-null int64\n",
      "RainTomorrow     101328 non-null int64\n",
      "dtypes: float64(17), int64(2)\n",
      "memory usage: 15.5 MB\n"
     ]
    }
   ],
   "source": [
    "temp_rainfall.info()"
   ]
  },
  {
   "cell_type": "markdown",
   "metadata": {},
   "source": [
    "# Data Understanding 2\n",
    "<b>Choose and explain your evaluation metrics that you will use (i.e., accuracy, precision, recall, F-measure, or any metric we have discussed). Why are the measure(s) appropriate for analyzing the results of your modeling? Give a detailed explanation backing up any assertations.</b>"
   ]
  },
  {
   "cell_type": "markdown",
   "metadata": {},
   "source": [
    "For the classification task, we chose to use the F1 calculation as our evaluation metrics. The F1 measure is the weighted average of Precision and Recall. The dataset we are using is not senstive to False Positive like that of a medical study and therefore it is not as important to use Precision and Recall alone. Accuracy is not the best choice when the classes are not close to equal in sizes and therefore not a good fit for this dataset. Class size is demonstrated below. F1 Calculation, 2(Recall  Precision)/(Recall + Precision), will be used as our evaluation metric of choice."
   ]
  },
  {
   "cell_type": "markdown",
   "metadata": {},
   "source": [
    "# Modeling and Evaluation 1\n",
    "<b>Train and adjust parameters.</b>"
   ]
  },
  {
   "cell_type": "code",
   "execution_count": 44,
   "metadata": {},
   "outputs": [],
   "source": [
    "if 'RainTomorrow' in temp_rainfall:\n",
    "    #Response variable is 'RainTomorrow'\n",
    "    y = temp_rainfall['RainTomorrow'].values\n",
    "    \n",
    "    #Remove response variable from dataframe\n",
    "    del temp_rainfall['RainTomorrow']\n",
    "    \n",
    "    #Everything else is the explanatory variables used in prediction.\n",
    "    x = temp_rainfall.values"
   ]
  },
  {
   "cell_type": "code",
   "execution_count": 71,
   "metadata": {},
   "outputs": [
    {
     "name": "stdout",
     "output_type": "stream",
     "text": [
      "random\n",
      "Adjusted Rand Score (-1 to 1): 0.002014\n",
      "Calinski-Harabaz Score (higher scores relates to better defined clusters): 49773.947750\n",
      "k-means++\n",
      "Adjusted Rand Score (-1 to 1): 0.002012\n",
      "Calinski-Harabaz Score (higher scores relates to better defined clusters): 49773.952227\n",
      "random, scaled\n",
      "Adjusted Rand Score (-1 to 1): -0.001029\n",
      "Calinski-Harabaz Score (higher scores relates to better defined clusters): 17820.441945\n",
      "k-means++, scaled\n",
      "Adjusted Rand Score (-1 to 1): -0.001135\n",
      "Calinski-Harabaz Score (higher scores relates to better defined clusters): 17820.438060\n"
     ]
    },
    {
     "data": {
      "text/plain": [
       "array([0, 1, 1, ..., 0, 0, 0])"
      ]
     },
     "execution_count": 71,
     "metadata": {},
     "output_type": "execute_result"
    }
   ],
   "source": [
    "from sklearn.cluster import KMeans\n",
    "from sklearn.preprocessing import StandardScaler\n",
    "import sklearn.metrics\n",
    "import time\n",
    "\n",
    "def bench_k_means(estimator, name, data):\n",
    "    t0 = time.time()\n",
    "    y_hat=estimator.fit_predict(data)\n",
    "    print(name)\n",
    "    print(\"Adjusted Rand Score (-1 to 1): %f\" %(sklearn.metrics.adjusted_rand_score(y, y_hat)))\n",
    "    print(\"Calinski-Harabaz Score (higher scores relates to better defined clusters): %f\"\n",
    "          %(sklearn.metrics.calinski_harabaz_score(X=data, labels=y_hat)))\n",
    "    return y_hat\n",
    "    \n",
    "scl_obj = StandardScaler()\n",
    "scl_obj.fit(x)\n",
    "x_scaled = scl_obj.transform(x)\n",
    "    \n",
    "bench_k_means(KMeans(init='random', n_clusters=2), name=\"random\", data=x)\n",
    "bench_k_means(KMeans(init='k-means++', n_clusters=2), name=\"k-means++\", data=x)\n",
    "bench_k_means(KMeans(init='random', n_clusters=2), name=\"random, scaled\", data=x_scaled)\n",
    "bench_k_means(KMeans(init='k-means++', n_clusters=2), name=\"k-means++, scaled\", data=x_scaled)\n"
   ]
  },
  {
   "cell_type": "markdown",
   "metadata": {},
   "source": [
    "- Unscaled data resulted in a better Adjusted Rand Score and Calinski-Harabaz Score, will use this dataset to test if DBSCAN will provide a better model."
   ]
  },
  {
   "cell_type": "code",
   "execution_count": 12,
   "metadata": {},
   "outputs": [
    {
     "data": {
      "image/png": "[encoded data removed]",
      "text/plain": [
       "<Figure size 1080x360 with 1 Axes>"
      ]
     },
     "metadata": {
      "needs_background": "light"
     },
     "output_type": "display_data"
    }
   ],
   "source": [
    "from sklearn.neighbors import kneighbors_graph\n",
    "import matplotlib.pyplot as plt\n",
    "import numpy\n",
    "\n",
    "n=1 #x=1, 10, 50.  All gave the same shape, 1 was chosen because it's the least computationally expensive\n",
    "X2_knn_graph = kneighbors_graph(x, n, mode='distance') # calculate distance to x nearest neighbors\n",
    "\n",
    "N2 = X2_knn_graph.shape[0]\n",
    "X2_4nn_distances = numpy.zeros((N2,1))\n",
    "for i in range(N2):\n",
    "    X2_4nn_distances[i] = X2_knn_graph[i,:].max()\n",
    "\n",
    "X2_4nn_distances = numpy.sort(X2_4nn_distances, axis=0)\n",
    "\n",
    "plt.figure(figsize=(15,5))\n",
    "plt.subplot(1,2,1)\n",
    "plt.plot(range(N2), X2_4nn_distances, 'r.', markersize=2) #plot the data\n",
    "plt.title('Dataset name: rainfall, sorted by neighbor distance')\n",
    "plt.xlabel('rainfall, Instance Number')\n",
    "plt.ylabel('rainfall, Distance to {0}th nearest neighbor'.format(n))\n",
    "plt.grid()"
   ]
  },
  {
   "cell_type": "code",
   "execution_count": 73,
   "metadata": {},
   "outputs": [
    {
     "name": "stdout",
     "output_type": "stream",
     "text": [
      "DBSCAN\n",
      "Adjusted Rand Score (-1 to 1): 0.047572\n",
      "Calinski-Harabaz Score (higher scores relates to better defined clusters): 38.101724\n",
      "Estimated number of clusters: 2\n"
     ]
    }
   ],
   "source": [
    "from sklearn.cluster import DBSCAN\n",
    "\n",
    "labels=bench_k_means(DBSCAN(eps=40, min_samples=8), name=\"DBSCAN\", data=x) #tried min_samples = 1, 100, 50, 25, 10, 5, 8\n",
    "\n",
    "# Number of clusters in labels, ignoring noise if present.\n",
    "n_clusters_ = len(set(labels)) - (1 if -1 in labels else 0)\n",
    "print('Estimated number of clusters: %d' % n_clusters_)"
   ]
  },
  {
   "cell_type": "markdown",
   "metadata": {},
   "source": [
    "# Modeling and Evaluation 2\n",
    "<b>Evaluate and Compare</b>"
   ]
  },
  {
   "cell_type": "markdown",
   "metadata": {},
   "source": [
    "- Scaling the observations to their means resulted in less accuracy and cluster formations, Adjusted Rand score in the negative and Calinski-Harabaz score is 17820.4 to the 49773.9 of the un-scaled dataset.\n",
    "- Using a random initilization or an initialization where the centroids' distances are maximized did not seem to have much of an effect on accuracy or cluster formation.\n",
    "- DBSCAN resulted in a much lower Calinski-Harabaz score, 38.1, then KMeans, 49773.0.  Indicating that DBSCAN had less defined clusters.  \n",
    "- DBSCAN's Adjusted Rand Score is much larger that of KMeans, 0.05 to 0.002.  indicating there were more similarities between the predicted clusters and the true values, better accuracy.  However, perfect accuracy is 1.0, a 0.05 is not very impressive."
   ]
  },
  {
   "cell_type": "markdown",
   "metadata": {},
   "source": [
    "# Modeling and Evaluation 3\n",
    "<b>Visualize Results</b>\n"
   ]
  },
  {
   "cell_type": "code",
   "execution_count": null,
   "metadata": {},
   "outputs": [],
   "source": []
  },
  {
   "cell_type": "markdown",
   "metadata": {},
   "source": [
    "# Modeling and Evaluation 4\n",
    "<b>Summarize the Ramifications</b>\n"
   ]
  },
  {
   "cell_type": "code",
   "execution_count": null,
   "metadata": {},
   "outputs": [],
   "source": []
  },
  {
   "cell_type": "markdown",
   "metadata": {},
   "source": [
    "# Deployment\n",
    "<b>Be critical of your performance and tell the reader how you current model might be usable by other parties. Did you achieve your goals? If not, can you reign in the utility of your modeling?</b>\n",
    "\n",
    "* How useful is your model for interested parties (i.e., the companies or organizations that might want to use it)?\n",
    "* How would your deploy your model for interested parties?\n",
    "* What other data should be collected?\n",
    "* How often would the model need to be updated, etc.?"
   ]
  },
  {
   "cell_type": "code",
   "execution_count": null,
   "metadata": {},
   "outputs": [],
   "source": []
  },
  {
   "cell_type": "markdown",
   "metadata": {},
   "source": [
    "# Exceptional Work\n",
    "<b>You have free reign to provide additional analyses or combine analyses</b>"
   ]
  },
  {
   "cell_type": "code",
   "execution_count": null,
   "metadata": {},
   "outputs": [],
   "source": []
  }
 ],
 "metadata": {
  "kernelspec": {
   "display_name": "Python 3",
   "language": "python",
   "name": "python3"
  },
  "language_info": {
   "codemirror_mode": {
    "name": "ipython",
    "version": 3
   },
   "file_extension": ".py",
   "mimetype": "text/x-python",
   "name": "python",
   "nbconvert_exporter": "python",
   "pygments_lexer": "ipython3",
   "version": "3.6.5"
  }
 },
 "nbformat": 4,
 "nbformat_minor": 2
}
