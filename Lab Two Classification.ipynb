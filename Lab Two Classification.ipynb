{
 "cells": [
  {
   "cell_type": "markdown",
   "metadata": {},
   "source": [
    "# <center>Lab Two Classification</center>\n",
    "<center><font size = \"4\"> Australian Weather Station Collection Data 2007-2017</font></center>\n",
    "\n",
    "##### <center>Create by An Nguyen, Andy Ho, Jodi Pafford</center>\n",
    "<center> March 9, 2019</center>"
   ]
  },
  {
   "cell_type": "markdown",
   "metadata": {},
   "source": [
    "# Total Points"
   ]
  },
  {
   "cell_type": "markdown",
   "metadata": {},
   "source": [
    "# Data Preparation 1\n",
    "<b>Define and prepare your class variables. Use proper variable representations (int, float, one-hot, etc.). Use pre-processing methods (as needed) for dimensionality reduction, scaling, etc. Remove variables that are not needed/useful for the analysis.</b>\n",
    "\n",
    "The following shows our pre-processing and final data set to use for training and testing the various measures and models.  Summary of our data set can be found in the next section under <b>Data Preparation 2</b>.  The original data file named 'weatherAus.csv' was outputted as 'rainfall.csv' after our pre-processing.  The data set contains daily weather observations from numerous Australian weather stations.  The daily observations are available from http://www.bom.gov.au/climate/data. Copyright Commonwealth of Australia 2010, Bureau of Meteorology.  \n",
    "\n",
    "The following is the data meaning types for the features used for Lab Two (19 variables by class type):\n",
    "\n",
    "- Int64: RainToday, RainTomorrow\n",
    "- Float64: MinTemp, MaxTemp, Rainfall, WindGustDir, WindGustSpeed, WindDir9am, WindDir3pm, WindSpeed9am, WindSpeed3pm, Humidity9am, Humidity3pm, Pressure9am, Pressure3pm, Cloud9am, Cloud3pm, Temp9am, Temp3pm\n",
    "\n",
    "Codebook in its entirety can be found at https://www.kaggle.com/jsphyg/weather-dataset-rattle-package."
   ]
  },
  {
   "cell_type": "code",
   "execution_count": 1,
   "metadata": {},
   "outputs": [],
   "source": [
    "import pandas as pd\n",
    "import numpy as np\n",
    "import matplotlib as mpl\n",
    "import matplotlib.pyplot as plt\n",
    "%matplotlib inline\n",
    "\n",
    "##Load original dataset.  No longer needed.\n",
    "##The cleaning process is very computationally expensive therefore a the 'ranifall.csv' file was created for later use. \n",
    "#rainfall_original = pd.read_csv('weatherAus.csv') \n",
    "\n",
    "#Functions to find the average value using the bracketing values around the NaN's.  \n",
    "    #For instance if a city's 'MinTemp' has 34, 32, NaN, NaN, 55 recorded \n",
    "    #the function will average 32 and 55 for the first NaN: (32+55)/2 = 43.5 \n",
    "    #and average the above value and 55 for the second NaN: (43.5+55)/2 = 49.25\n",
    "#Will only use values if they are from the same city.\n",
    "#If NaN is the earliest timepoint for a given city the next timepoint with no NaN will be given instead of the mean.\n",
    "#If NaN is the latest timepoint for a given city the previous timepoint with no NaN will be given instead of the mean.\n",
    "\n",
    "def impute_by_city(cities,variables):\n",
    "    for c in cities:\n",
    "        #aPrse out observations from a single city.\n",
    "        temp = rainfall[rainfall.Location == c]\n",
    "        \n",
    "        #Interate through all observations of the temp data file.\n",
    "        i = min(temp.index)\n",
    "        while i <= max(temp.index):\n",
    "            for v in variables:\n",
    "                #Check to see if there are values recorded for the variable, will pass over if all are NaN.\n",
    "                if pd.isna(temp[v]).all():\n",
    "                    pass\n",
    "                \n",
    "                #Check to see if a single value is NaN.\n",
    "                elif pd.isna(temp[v][i]):\n",
    "                    #Find the mean of bracketing values and impute into main dataframe.\n",
    "                    temp[v][i] = find_mean(temp[v], i)\n",
    "                    rainfall[v][i] = temp[v][i]\n",
    "            i = i + 1       \n",
    "\n",
    "#Find mean of bracketing values.\n",
    "def find_mean(templist, index):\n",
    "    #If NaN is earliest timepoint for the city take the next value that is not NaN.\n",
    "    if index == min(templist.index): \n",
    "        return find_top(templist, index)\n",
    "    \n",
    "    #If latest timepoint for the city take the previous value that is not NaN.\n",
    "    elif index == max(templist.index): \n",
    "        return find_bottom(templist, index)\n",
    "    \n",
    "    else:\n",
    "        #Find previous non-NaN value.\n",
    "        bottom = find_bottom(templist, index) \n",
    "        #Find next non-NaN value.\n",
    "        top = find_top(templist, index) \n",
    "        \n",
    "    #If current value is not from the latest timepoint for the city but there are no more non-NaN value recorded\n",
    "    #after this value then the previous non-NaN value will be taken.\n",
    "    if pd.isna(top): \n",
    "        return bottom\n",
    "    \n",
    "\n",
    "    else:\n",
    "        mean = (top + bottom)/2\n",
    "        return mean\n",
    "\n",
    "#Find previous non-NaN value.\n",
    "def find_bottom(templist, index):\n",
    "    while pd.isna(templist[index-1]):\n",
    "        index = index-1\n",
    "    bottom = templist[index-1]\n",
    "    return bottom\n",
    "\n",
    "#Find next non-NaN value.\n",
    "#If there are no more non-NaN values return the previous non-NaN value.\n",
    "def find_top(templist, index):\n",
    "    while pd.isna(templist[index+1]):\n",
    "        index = index+1\n",
    "        if index == max(templist.index):\n",
    "            top = np.nan\n",
    "            return top\n",
    "    top = templist[index+1]\n",
    "    return top   "
   ]
  },
  {
   "cell_type": "code",
   "execution_count": 2,
   "metadata": {},
   "outputs": [],
   "source": [
    "##Code for first run data cleaning, no longer needed after 'rainfall.csv' was created at the end of cleaning process.\n",
    "\n",
    "#rainfall = rainfall_original.copy()\n",
    "\n",
    "##'RISK_MM' was used by creator of dataset to extrapolate response variable, 'RainTomorrow.'  Needs to be dropped to not \n",
    "##influence prediction.\n",
    "#rainfall.drop([\"RISK_MM\"], axis=1, inplace=True)\n",
    "\n",
    "##Drop any observation with no record of rainfall for the day.  Cannot be imputed.\n",
    "#rainfall.dropna(subset=[\"RainToday\"], inplace=True)\n",
    "\n",
    "#Reset the Index of each observation to match it's iloc, get rid of gaps between Index integers.\n",
    "#rainfall = rainfall.reset_index(drop=True)\n",
    "#rainfall.info()"
   ]
  },
  {
   "cell_type": "code",
   "execution_count": 3,
   "metadata": {},
   "outputs": [],
   "source": [
    "##can be skipped if rainfall.csv already generated!\n",
    "\n",
    "##set the cardinal directions to degrees.\n",
    "#directions = {'N':0, 'NNE':22.5, 'NE':45, 'NE':45, 'ENE':67.5, 'E':90, 'ESE':112.5, 'SE':135, 'SSE':157.5, 'S':180,\\\n",
    "#              'SSW':202.5, 'SW':225, 'WSW':247.5, 'W':270, 'WNW':292.5, 'NW':315, 'NNW':337.5}\n",
    "\n",
    "##Replace cardianl direction to their corresponding degrees.\n",
    "#rainfall = rainfall.replace(directions) \n",
    "\n",
    "#Get name of all cities in the data frame.\n",
    "#cities = rainfall.Location.unique() \n",
    "\n",
    "#c_variables = []\n",
    "#d_variables = []\n",
    "\n",
    "##change 'Yes' and 'No' to 1 and 0 respectively.\n",
    "#rainfall.RainToday = rainfall.RainToday=='Yes'\n",
    "#rainfall.RainToday = rainfall.RainToday.astype(np.int)\n",
    "#rainfall.RainTomorrow = rainfall.RainTomorrow=='Yes'\n",
    "#rainfall.RainTomorrow = rainfall.RainTomorrow.astype(np.int)\n",
    "\n",
    "##Find all variables with continous data type.\n",
    "#for l in list(rainfall):\n",
    "#    if (rainfall[l].dtypes == 'float64'):\n",
    "#        c_variables.append(l)\n",
    "#    else:\n",
    "#        d_variables.append(l)"
   ]
  },
  {
   "cell_type": "code",
   "execution_count": 4,
   "metadata": {},
   "outputs": [],
   "source": [
    "##can be skipped if rainfall.csv already generated! Very expensive, 'rainfall.csv' can be uploaded from working directory\n",
    "\n",
    "##Impute values to NaN's and save to csv file for later use.\n",
    "#impute_by_city(cities, c_variables)\n",
    "#rainfall.to_csv(\"rainfall.csv\", sep=',', index=True)"
   ]
  },
  {
   "cell_type": "code",
   "execution_count": 5,
   "metadata": {},
   "outputs": [
    {
     "name": "stdout",
     "output_type": "stream",
     "text": [
      "BadgerysCreek\n",
      "Newcastle\n",
      "NorahHead\n",
      "Penrith\n",
      "Tuggeranong\n",
      "MountGinini\n",
      "Nhil\n",
      "Dartmoor\n",
      "GoldCoast\n",
      "Adelaide\n",
      "Albany\n",
      "Witchcliffe\n",
      "SalmonGums\n",
      "Walpole\n"
     ]
    },
    {
     "data": {
      "image/png": "[encoded data removed]",
      "text/plain": [
       "<Figure size 432x288 with 1 Axes>"
      ]
     },
     "metadata": {},
     "output_type": "display_data"
    }
   ],
   "source": [
    "import seaborn as sns\n",
    "\n",
    "##load pre-generated rainfall.csv file.\n",
    "rainfall = pd.read_csv('rainfall.csv', index_col=0) \n",
    "\n",
    "# Visualising missing data:\n",
    "sns.heatmap(rainfall.isnull(),yticklabels=False,cbar=False,cmap='Reds_r')\n",
    "\n",
    "#Variables 'Evaporation' and 'Sunshine' contained many missing values, too many to be imputed.\n",
    "rainfall = rainfall.drop(['Evaporation', 'Sunshine'], axis = 1)\n",
    "\n",
    "#Get name of all cities in the data frame.\n",
    "l = list(rainfall.Location.unique())\n",
    "\n",
    "#Drop all observations with NaN's.  These are values that could not be imputed using the above code.\n",
    "rainfall.dropna(subset = list(rainfall), inplace = True)\n",
    "\n",
    "#List all cities that were dropped\n",
    "for i in l:\n",
    "    if i not in rainfall.Location.unique():\n",
    "        print(i)\n",
    "        \n",
    "#'Date' and 'Location' variables not needed for prediction. \n",
    "rainfall = rainfall.drop(['Date', 'Location'], axis = 1) "
   ]
  },
  {
   "cell_type": "code",
   "execution_count": 6,
   "metadata": {},
   "outputs": [
    {
     "name": "stdout",
     "output_type": "stream",
     "text": [
      "0    79872\n",
      "1    21456\n",
      "Name: RainTomorrow, dtype: int64\n"
     ]
    },
    {
     "data": {
      "image/png": "[encoded data removed]",
      "text/plain": [
       "<Figure size 432x288 with 1 Axes>"
      ]
     },
     "metadata": {},
     "output_type": "display_data"
    }
   ],
   "source": [
    "mpl.style.use('ggplot')\n",
    "plt.figure(figsize=(6,4))\n",
    "plt.hist(rainfall['RainTomorrow'],bins=2,rwidth=0.8)\n",
    "plt.xticks([0.25,0.75],['No Rain','Rain'])\n",
    "plt.title('Frequency of No Rain and Rainy days\\n')\n",
    "print(rainfall['RainTomorrow'].value_counts())"
   ]
  },
  {
   "cell_type": "code",
   "execution_count": 7,
   "metadata": {},
   "outputs": [
    {
     "name": "stdout",
     "output_type": "stream",
     "text": [
      "<class 'pandas.core.frame.DataFrame'>\n",
      "Int64Index: 101328 entries, 0 to 140786\n",
      "Data columns (total 19 columns):\n",
      "MinTemp          101328 non-null float64\n",
      "MaxTemp          101328 non-null float64\n",
      "Rainfall         101328 non-null float64\n",
      "WindGustDir      101328 non-null float64\n",
      "WindGustSpeed    101328 non-null float64\n",
      "WindDir9am       101328 non-null float64\n",
      "WindDir3pm       101328 non-null float64\n",
      "WindSpeed9am     101328 non-null float64\n",
      "WindSpeed3pm     101328 non-null float64\n",
      "Humidity9am      101328 non-null float64\n",
      "Humidity3pm      101328 non-null float64\n",
      "Pressure9am      101328 non-null float64\n",
      "Pressure3pm      101328 non-null float64\n",
      "Cloud9am         101328 non-null float64\n",
      "Cloud3pm         101328 non-null float64\n",
      "Temp9am          101328 non-null float64\n",
      "Temp3pm          101328 non-null float64\n",
      "RainToday        101328 non-null int64\n",
      "RainTomorrow     101328 non-null int64\n",
      "dtypes: float64(17), int64(2)\n",
      "memory usage: 15.5 MB\n"
     ]
    }
   ],
   "source": [
    "rainfall.info()"
   ]
  },
  {
   "cell_type": "markdown",
   "metadata": {},
   "source": [
    "# Data Preparation 2\n",
    "<b>Describe the final dataset that is used for classification/regression (include a description of any newly formed variables you created).</b>"
   ]
  },
  {
   "cell_type": "markdown",
   "metadata": {},
   "source": [
    "The original data set had 140,787 observations and 24 features.  After pre-processing, dimension reduction occurred leaving the new data set at 101,328 observations and 19 features.  Observations were removed if it contained any NaNs within its features.  The following features were removed:\n",
    "\n",
    "- Evaporation : Too many NaNs to impute\n",
    "- Sunshine: Too many NaNs to impute\n",
    "- Date: Feature not required for classification and/or prediction\n",
    "- Location: Feature not required since we're predicting rain or not for Australia and not by cities\n",
    "- RISK_MM: Feature not required since it measures the amount of rain.  Would impact modeling results.\n",
    "\n",
    "We also decided for classification/regression purposes, to convert the \"Cardinal Directions\" to degrees.  For example, N':0, 'NNE':22.5, 'NE':45, 'NE':45, and so on. \n",
    "\n",
    "The reduction of features will help make our proposed model simpler and mitigate the probabiilty of overfitting.  Since the data set has over a hundred thousand observations, we had sufficient number of observations that removing the observations with NaNs would not interfere with our training and test set results (i.e. accuracy).\n",
    "\n",
    "Further modeling and various evaluations will be required to better understand which measure are most appropriate for analyzing the results of our modeling.  "
   ]
  },
  {
   "cell_type": "code",
   "execution_count": 30,
   "metadata": {},
   "outputs": [
    {
     "data": {
      "text/plain": [
       "(101328, 19)"
      ]
     },
     "execution_count": 30,
     "metadata": {},
     "output_type": "execute_result"
    }
   ],
   "source": [
    "rainfall.shape"
   ]
  },
  {
   "cell_type": "markdown",
   "metadata": {},
   "source": [
    "# Modeling and Evaluation 1\n",
    "<b>Choose and explain your evaluation metrics that you will use (i.e., accuracy, precision, recall, F-measure, or any metric we have discussed). Why are the measure(s) appropriate for analyzing the results of your modeling? Give a detailed explanation backing up any assertions.</b>"
   ]
  },
  {
   "cell_type": "markdown",
   "metadata": {},
   "source": [
    "For the classification task, we chose to use the F1 calculation as our evaluation metrics. The F1 measure is the weighted average of Precision and Recall. The dataset we are using is not senstive to False Positive like that of a medical study and therefore it is not as important to use Precision and Recall alone. Accuracy is not the best choice when the classes are not close to equal in sizes and therefore not a good fit for this dataset. Class size is demonstrated below. F1 Calculation, 2*(Recall * Precision)/(Recall + Precision), will be used as our evaluation metric of choice."
   ]
  },
  {
   "cell_type": "markdown",
   "metadata": {},
   "source": [
    "For the regression task, we used Root Mean Squared Errror (RMSE) in the analysis.  We chose RMSE because our predictor is binary.  If our predictor was a ordinal value, we would need to use R2 or at least compare R2 with RMSE in order to see the variation in the predictor value."
   ]
  },
  {
   "cell_type": "code",
   "execution_count": 8,
   "metadata": {},
   "outputs": [
    {
     "name": "stdout",
     "output_type": "stream",
     "text": [
      "RainTomorrow\n",
      "0    79872\n",
      "1    21456\n",
      "dtype: int64\n"
     ]
    },
    {
     "data": {
      "image/png": "[encoded data removed]",
      "text/plain": [
       "<Figure size 432x288 with 1 Axes>"
      ]
     },
     "metadata": {},
     "output_type": "display_data"
    }
   ],
   "source": [
    "#View size of classes to justify not using accuracy\n",
    "import seaborn as sns\n",
    "import matplotlib.pyplot as plt\n",
    "print(rainfall.groupby('RainTomorrow').size())\n",
    "sns.countplot(rainfall['RainTomorrow'], label=\"Count\")\n",
    "plt.show()"
   ]
  },
  {
   "cell_type": "markdown",
   "metadata": {},
   "source": [
    "# Modeling and Evaluation 2\n",
    "<b>Choose the method you will use for dividing your data into training and testing splits (i.e., are you using Stratified 10-fold cross validation? Why?). Explain why your chosen method is appropriate or use more than one method as appropriate. For example, if you are using time series data then you should be using continuous training and testing sets across time.</b>"
   ]
  },
  {
   "cell_type": "markdown",
   "metadata": {},
   "source": [
    "We chose to divide our data into training and testing splits by using Shuffle Split. By choosing a cross-validation that is not stratified, we are ensuring that the training set never becomes part of the testing set and vice-versa. Additionally, the size of our dataset does not warrant the use of multiple splits for improved accuracy. For this same reason, we chose to only calculate 1 iteration of the split."
   ]
  },
  {
   "cell_type": "code",
   "execution_count": 9,
   "metadata": {},
   "outputs": [],
   "source": [
    "from sklearn.model_selection import ShuffleSplit as ss\n",
    "   \n",
    "#Split our data into training and testing sets, 80% of data will be in the training set and 20% the testing set.\n",
    "#Data will be process this way 5 times, value can be change per user's judgement.  It is recommended that number\n",
    "#of iterations be at least 2 so that standard deviations can be computed.\n",
    "num_cv_iterations = 1\n",
    "cv_object = ss(n_splits=num_cv_iterations, test_size  = 0.2)"
   ]
  },
  {
   "cell_type": "markdown",
   "metadata": {},
   "source": [
    "# Modeling and Evaluation 3\n",
    "<b>Create three different classification/regression models for each task (e.g., random forest, KNN, and SVM for task one and the same or different algorithms for task two). Two modeling techniques must be new (but the third could be SVM or logistic regression). Adjust parameters as appropriate to increase generalization performance using your chosen metric. You must investigate different parameters of the algorithms!</b>\n",
    "\n",
    "* Task 1 Classification: Predict if it will rain the next day or not.\n",
    "* Task 2 Regression: Compute how much it rained that day."
   ]
  },
  {
   "cell_type": "markdown",
   "metadata": {},
   "source": [
    "## Task 1 Classification:  Predict if it will rain the next day or not."
   ]
  },
  {
   "cell_type": "code",
   "execution_count": 24,
   "metadata": {
    "scrolled": true
   },
   "outputs": [
    {
     "name": "stdout",
     "output_type": "stream",
     "text": [
      "F1 Measure of KNN with 1 neighbors with 'uniform' weights is: 0.54322\n",
      "Time to Run: 30.74397921562195\n",
      "F1 Measure of KNN with 2 neighbors with 'uniform' weights is: 0.46945\n",
      "Time to Run: 34.2933406829834\n",
      "F1 Measure of KNN with 3 neighbors with 'uniform' weights is: 0.56973\n",
      "Time to Run: 39.112505197525024\n",
      "F1 Measure of KNN with 4 neighbors with 'uniform' weights is: 0.52481\n",
      "Time to Run: 40.101985931396484\n",
      "F1 Measure of KNN with 5 neighbors with 'uniform' weights is: 0.58092\n",
      "Time to Run: 41.623209714889526\n",
      "F1 Measure of KNN with 6 neighbors with 'uniform' weights is: 0.53695\n",
      "Time to Run: 44.40526556968689\n",
      "F1 Measure of KNN with 7 neighbors with 'uniform' weights is: 0.58146\n",
      "Time to Run: 47.467609167099\n",
      "F1 Measure of KNN with 8 neighbors with 'uniform' weights is: 0.54961\n",
      "Time to Run: 44.753456592559814\n",
      "F1 Measure of KNN with 9 neighbors with 'uniform' weights is: 0.57915\n",
      "Time to Run: 48.07119870185852\n",
      "F1 Measure of KNN with 10 neighbors with 'uniform' weights is: 0.55527\n",
      "Time to Run: 51.070534467697144\n"
     ]
    },
    {
     "data": {
      "image/png": "[encoded data removed]",
      "text/plain": [
       "<Figure size 432x288 with 1 Axes>"
      ]
     },
     "metadata": {
      "needs_background": "light"
     },
     "output_type": "display_data"
    },
    {
     "name": "stdout",
     "output_type": "stream",
     "text": [
      "The number of neighbors with the highest F1 score is 7, F1 of 0.58146.\n",
      "\n",
      "F1 Measure of KNN with 1 neighbors with 'distance' weights is: 0.54322\n",
      "Time to Run: 30.613192319869995\n",
      "F1 Measure of KNN with 2 neighbors with 'distance' weights is: 0.54322\n",
      "Time to Run: 33.79134917259216\n",
      "F1 Measure of KNN with 3 neighbors with 'distance' weights is: 0.57147\n",
      "Time to Run: 39.44379281997681\n",
      "F1 Measure of KNN with 4 neighbors with 'distance' weights is: 0.57911\n",
      "Time to Run: 39.74287962913513\n",
      "F1 Measure of KNN with 5 neighbors with 'distance' weights is: 0.58343\n",
      "Time to Run: 49.03789234161377\n",
      "F1 Measure of KNN with 6 neighbors with 'distance' weights is: 0.58549\n",
      "Time to Run: 44.907217502593994\n",
      "F1 Measure of KNN with 7 neighbors with 'distance' weights is: 0.58491\n",
      "Time to Run: 45.871933937072754\n",
      "F1 Measure of KNN with 8 neighbors with 'distance' weights is: 0.58496\n",
      "Time to Run: 46.57476449012756\n",
      "F1 Measure of KNN with 9 neighbors with 'distance' weights is: 0.58118\n",
      "Time to Run: 47.809305906295776\n",
      "F1 Measure of KNN with 10 neighbors with 'distance' weights is: 0.58820\n",
      "Time to Run: 49.319124698638916\n"
     ]
    },
    {
     "data": {
      "image/png": "[encoded data removed]",
      "text/plain": [
       "<Figure size 432x288 with 1 Axes>"
      ]
     },
     "metadata": {
      "needs_background": "light"
     },
     "output_type": "display_data"
    },
    {
     "name": "stdout",
     "output_type": "stream",
     "text": [
      "The number of neighbors with the highest F1 score is 10, F1 of 0.58820.\n",
      "\n",
      "F1 Measure of Gausian Naive Bayes is: 0.58320\n",
      "Time to Run: 0.09324812889099121\n",
      "\n",
      "F1 Measure of Logistic Regression 'l1' penalty with cost 1 is: 0.59699\n",
      "Time to Run: 1.3550684452056885\n",
      "F1 Measure of Logistic Regression 'l1' penalty with cost 2 is: 0.59699\n",
      "Time to Run: 1.3957383632659912\n",
      "F1 Measure of Logistic Regression 'l1' penalty with cost 3 is: 0.59690\n",
      "Time to Run: 1.5395796298980713\n",
      "F1 Measure of Logistic Regression 'l1' penalty with cost 4 is: 0.59690\n",
      "Time to Run: 1.5227172374725342\n",
      "F1 Measure of Logistic Regression 'l1' penalty with cost 5 is: 0.59682\n",
      "Time to Run: 1.5336263179779053\n",
      "F1 Measure of Logistic Regression 'l1' penalty with cost 6 is: 0.59682\n",
      "Time to Run: 1.568843126296997\n",
      "F1 Measure of Logistic Regression 'l1' penalty with cost 7 is: 0.59682\n",
      "Time to Run: 1.6591157913208008\n",
      "F1 Measure of Logistic Regression 'l1' penalty with cost 8 is: 0.59674\n",
      "Time to Run: 1.5371007919311523\n",
      "F1 Measure of Logistic Regression 'l1' penalty with cost 9 is: 0.59682\n",
      "Time to Run: 1.6338179111480713\n",
      "F1 Measure of Logistic Regression 'l1' penalty with cost 10 is: 0.59674\n",
      "Time to Run: 1.6987953186035156\n"
     ]
    },
    {
     "data": {
      "image/png": "[encoded data removed]",
      "text/plain": [
       "<Figure size 432x288 with 1 Axes>"
      ]
     },
     "metadata": {
      "needs_background": "light"
     },
     "output_type": "display_data"
    },
    {
     "name": "stdout",
     "output_type": "stream",
     "text": [
      "The cost with the highest F1 score is 1, F1 of 0.59699.\n",
      "\n",
      "F1 Measure of Logistic Regression 'l2' penalty with cost 1 is: 0.59699\n",
      "Time to Run: 0.975628137588501\n",
      "F1 Measure of Logistic Regression 'l2' penalty with cost 2 is: 0.59682\n",
      "Time to Run: 0.9458694458007812\n",
      "F1 Measure of Logistic Regression 'l2' penalty with cost 3 is: 0.59682\n",
      "Time to Run: 0.8660147190093994\n",
      "F1 Measure of Logistic Regression 'l2' penalty with cost 4 is: 0.59682\n",
      "Time to Run: 0.8471648693084717\n",
      "F1 Measure of Logistic Regression 'l2' penalty with cost 5 is: 0.59682\n",
      "Time to Run: 0.8694851398468018\n",
      "F1 Measure of Logistic Regression 'l2' penalty with cost 6 is: 0.59682\n",
      "Time to Run: 0.884861946105957\n",
      "F1 Measure of Logistic Regression 'l2' penalty with cost 7 is: 0.59682\n",
      "Time to Run: 0.8952803611755371\n",
      "F1 Measure of Logistic Regression 'l2' penalty with cost 8 is: 0.59682\n",
      "Time to Run: 0.8674983978271484\n",
      "F1 Measure of Logistic Regression 'l2' penalty with cost 9 is: 0.59682\n",
      "Time to Run: 0.8650228977203369\n",
      "F1 Measure of Logistic Regression 'l2' penalty with cost 10 is: 0.59682\n",
      "Time to Run: 0.89974045753479\n"
     ]
    },
    {
     "data": {
      "image/png": "[encoded data removed]",
      "text/plain": [
       "<Figure size 432x288 with 1 Axes>"
      ]
     },
     "metadata": {
      "needs_background": "light"
     },
     "output_type": "display_data"
    },
    {
     "name": "stdout",
     "output_type": "stream",
     "text": [
      "The cost with the highest F1 score is 1, F1 of 0.59699.\n",
      "\n"
     ]
    }
   ],
   "source": [
    "from sklearn import metrics as mt\n",
    "from sklearn.preprocessing import StandardScaler as sts\n",
    "from sklearn.linear_model import LogisticRegression as lr\n",
    "from sklearn.neighbors import KNeighborsClassifier as knnc\n",
    "from sklearn.naive_bayes import GaussianNB as gnb\n",
    "import time\n",
    "\n",
    "#Assign values to response variable, y, and explanatory variables, x.\n",
    "temp_rainfall = rainfall.copy()\n",
    "if 'RainTomorrow' in temp_rainfall:\n",
    "    #Response variable is 'RainTomorrow'\n",
    "    y = temp_rainfall['RainTomorrow'].values\n",
    "    \n",
    "    #Remove response variable from dataframe\n",
    "    del temp_rainfall['RainTomorrow']\n",
    "    \n",
    "    #Everything else is the explanatory variables used in prediction.\n",
    "    x = temp_rainfall.values\n",
    "    \n",
    "scl_obj = sts()\n",
    "\n",
    "#Split the data into training and testing set 5 different ways, iterate through each way.\n",
    "for iter_num, (train_indices, test_indices) in enumerate(cv_object.split(x,y)):\n",
    "    \n",
    "    #Standardize the explanatory variables of the training and testing sets' means to be around 0 with a standard deviation of 1.  \n",
    "    #Each value is subtracted from the mean and divided by the standard deviation of the whole dataset.\n",
    "    scl_obj.fit(x[train_indices])\n",
    "    X_train_scaled = scl_obj.transform(x[train_indices])\n",
    "    X_test_scaled = scl_obj.transform(x[test_indices])\n",
    "\n",
    "    #K Nearest Neighbors, all neighbors are treated the same.  Number of neighbors range from 1 to 10.\n",
    "    F1_values = []\n",
    "    for K in range(1, 11):\n",
    "        t0=time.time()\n",
    "        knn_clf = knnc(n_neighbors=K, weights='uniform')\n",
    "        knn_clf.fit(X_train_scaled,y[train_indices])\n",
    "        y_hat = knn_clf.predict(X_test_scaled)\n",
    "        F1 = mt.f1_score(y[test_indices],y_hat)\n",
    "        F1_values.append(F1)\n",
    "        print('F1 Measure of KNN with %d neighbors with \\'uniform\\' weights is: %.5f'%(K,F1))\n",
    "        print (\"Time to Run:\", time.time()-t0)\n",
    "    #plotting the F1 scores against k values\n",
    "    curve = pd.DataFrame(F1_values) #elbow curve \n",
    "    plt.show(curve.plot())\n",
    "    print('The number of neighbors with the highest F1 score is %d, F1 of %.5f.' %(F1_values.index(max(F1_values))+1,max(F1_values)))\n",
    "    print()\n",
    "        \n",
    "    #K Nearest Neighbors, closer neighbors are given more weight.  Number of neighbors range from 1 to 10.\n",
    "    F1_values = []\n",
    "    for K in range(1, 11):\n",
    "        t0=time.time()\n",
    "        knn_clf = knnc(n_neighbors=K, weights='distance')\n",
    "        knn_clf.fit(X_train_scaled,y[train_indices])\n",
    "        y_hat = knn_clf.predict(X_test_scaled)\n",
    "        F1 = mt.f1_score(y[test_indices],y_hat)\n",
    "        F1_values.append(F1)\n",
    "        print('F1 Measure of KNN with %d neighbors with \\'distance\\' weights is: %.5f'%(K,F1))\n",
    "        print (\"Time to Run:\", time.time()-t0)\n",
    "    #plotting the F1 scores against k values\n",
    "    curve = pd.DataFrame(F1_values) #elbow curve \n",
    "    plt.show(curve.plot())\n",
    "    print('The number of neighbors with the highest F1 score is %d, F1 of %.5f.' %(F1_values.index(max(F1_values))+1,max(F1_values)))\n",
    "    print()\n",
    "           \n",
    "    #Gaussian Naive Bayes\n",
    "    t0=time.time()\n",
    "    gnb_clf = gnb()\n",
    "    gnb_clf.fit(X_train_scaled,y[train_indices])\n",
    "    y_hat = gnb_clf.predict(X_test_scaled)\n",
    "    F1 = mt.f1_score(y[test_indices],y_hat)\n",
    "    print('F1 Measure of Gausian Naive Bayes is: %.5f' %(F1))\n",
    "    print (\"Time to Run:\", time.time()-t0)\n",
    "    print()\n",
    "    \n",
    "    \n",
    "    #Perform Logistic Regression, cost (inverse of regulation strength) range from 1 to 10 and l1 penalty.\n",
    "    F1_values = []\n",
    "    for cost in range(1,11):\n",
    "        t0=time.time()\n",
    "        lr_clf = lr(penalty='l1', C=cost)\n",
    "        lr_clf.fit(X_train_scaled,y[train_indices])\n",
    "        y_hat = lr_clf.predict(X_test_scaled)\n",
    "        F1 = mt.f1_score(y[test_indices],y_hat)\n",
    "        F1_values.append(F1)\n",
    "        print('F1 Measure of Logistic Regression \\'l1\\' penalty with cost %d is: %.5f' %(cost, F1))\n",
    "        print (\"Time to Run:\", time.time()-t0)\n",
    "    #plotting the F1 scores against cost values\n",
    "    curve = pd.DataFrame(F1_values) #elbow curve \n",
    "    plt.show(curve.plot())\n",
    "    print('The cost with the highest F1 score is %d, F1 of %.5f.' %(F1_values.index(max(F1_values))+1,max(F1_values)))\n",
    "    print()\n",
    "    \n",
    "    #Perform Logistic Regression, cost (inverse of regulation strength) range from 1 to 10 and l2 penalty.\n",
    "    F1_values = []\n",
    "    for cost in range(1,11):\n",
    "        t0=time.time()\n",
    "        lr_clf = lr(penalty='l2', C=cost)\n",
    "        lr_clf.fit(X_train_scaled,y[train_indices])\n",
    "        y_hat = lr_clf.predict(X_test_scaled)\n",
    "        F1 = mt.f1_score(y[test_indices],y_hat)\n",
    "        F1_values.append(F1)\n",
    "        print('F1 Measure of Logistic Regression \\'l2\\' penalty with cost %d is: %.5f' %(cost, F1))\n",
    "        print (\"Time to Run:\", time.time()-t0)\n",
    "    #plotting the F1 scores against cost values\n",
    "    curve = pd.DataFrame(F1_values) #elbow curve \n",
    "    plt.show(curve.plot())\n",
    "    print('The cost with the highest F1 score is %d, F1 of %.5f.' %(F1_values.index(max(F1_values))+1,max(F1_values)))\n",
    "    print()"
   ]
  },
  {
   "cell_type": "markdown",
   "metadata": {},
   "source": [
    "## Task 2 Regression: Compute how much it rained that day."
   ]
  },
  {
   "cell_type": "code",
   "execution_count": 25,
   "metadata": {},
   "outputs": [
    {
     "name": "stdout",
     "output_type": "stream",
     "text": [
      "RMSE of KNN with 1 neighbors with 'uniform' weights is: 9.28316\n",
      "Time to Run: 20.86074995994568\n",
      "RMSE of KNN with 2 neighbors with 'uniform' weights is: 8.34581\n",
      "Time to Run: 26.164385557174683\n",
      "RMSE of KNN with 3 neighbors with 'uniform' weights is: 7.95210\n",
      "Time to Run: 29.564488649368286\n",
      "RMSE of KNN with 4 neighbors with 'uniform' weights is: 7.75602\n",
      "Time to Run: 32.373332262039185\n",
      "RMSE of KNN with 5 neighbors with 'uniform' weights is: 7.58028\n",
      "Time to Run: 34.06518363952637\n",
      "RMSE of KNN with 6 neighbors with 'uniform' weights is: 7.49589\n",
      "Time to Run: 35.936588287353516\n",
      "RMSE of KNN with 7 neighbors with 'uniform' weights is: 7.45164\n",
      "Time to Run: 37.00942921638489\n",
      "RMSE of KNN with 8 neighbors with 'uniform' weights is: 7.40705\n",
      "Time to Run: 37.508439779281616\n",
      "RMSE of KNN with 9 neighbors with 'uniform' weights is: 7.40126\n",
      "Time to Run: 38.26328206062317\n",
      "RMSE of KNN with 10 neighbors with 'uniform' weights is: 7.39956\n",
      "Time to Run: 40.75471806526184\n",
      "RMSE of KNN with 11 neighbors with 'uniform' weights is: 7.35363\n",
      "Time to Run: 42.81215834617615\n",
      "RMSE of KNN with 12 neighbors with 'uniform' weights is: 7.32523\n",
      "Time to Run: 43.648868560791016\n",
      "RMSE of KNN with 13 neighbors with 'uniform' weights is: 7.28343\n",
      "Time to Run: 44.499576568603516\n",
      "RMSE of KNN with 14 neighbors with 'uniform' weights is: 7.27545\n",
      "Time to Run: 45.61351943016052\n",
      "RMSE of KNN with 15 neighbors with 'uniform' weights is: 7.26199\n",
      "Time to Run: 45.9686553478241\n",
      "RMSE of KNN with 16 neighbors with 'uniform' weights is: 7.24506\n",
      "Time to Run: 47.04943346977234\n",
      "RMSE of KNN with 17 neighbors with 'uniform' weights is: 7.24917\n",
      "Time to Run: 51.263936281204224\n",
      "RMSE of KNN with 18 neighbors with 'uniform' weights is: 7.25437\n",
      "Time to Run: 47.488887786865234\n",
      "RMSE of KNN with 19 neighbors with 'uniform' weights is: 7.25427\n",
      "Time to Run: 40.981388568878174\n",
      "RMSE of KNN with 20 neighbors with 'uniform' weights is: 7.24244\n",
      "Time to Run: 41.5944447517395\n",
      "RMSE of KNN with 21 neighbors with 'uniform' weights is: 7.23380\n",
      "Time to Run: 42.46293354034424\n",
      "RMSE of KNN with 22 neighbors with 'uniform' weights is: 7.22453\n",
      "Time to Run: 42.72829484939575\n",
      "RMSE of KNN with 23 neighbors with 'uniform' weights is: 7.21509\n",
      "Time to Run: 43.508501052856445\n",
      "RMSE of KNN with 24 neighbors with 'uniform' weights is: 7.22035\n",
      "Time to Run: 44.97120189666748\n",
      "RMSE of KNN with 25 neighbors with 'uniform' weights is: 7.20873\n",
      "Time to Run: 52.38340497016907\n",
      "RMSE of KNN with 26 neighbors with 'uniform' weights is: 7.19537\n",
      "Time to Run: 48.35539722442627\n",
      "RMSE of KNN with 27 neighbors with 'uniform' weights is: 7.18566\n",
      "Time to Run: 47.51121163368225\n",
      "RMSE of KNN with 28 neighbors with 'uniform' weights is: 7.20179\n",
      "Time to Run: 48.02655100822449\n",
      "RMSE of KNN with 29 neighbors with 'uniform' weights is: 7.20769\n",
      "Time to Run: 51.82697010040283\n",
      "RMSE of KNN with 30 neighbors with 'uniform' weights is: 7.20542\n",
      "Time to Run: 54.88670897483826\n"
     ]
    },
    {
     "data": {
      "image/png": "[encoded data removed]",
      "text/plain": [
       "<Figure size 432x288 with 1 Axes>"
      ]
     },
     "metadata": {
      "needs_background": "light"
     },
     "output_type": "display_data"
    },
    {
     "name": "stdout",
     "output_type": "stream",
     "text": [
      "The number of neighbors with the lowest RMSE is 27, RMSE of 7.18566.\n",
      "\n",
      "RMSE of KNN with 1 neighbors with 'distance' weights is: 9.28316\n",
      "Time to Run: 20.672232389450073\n",
      "RMSE of KNN with 2 neighbors with 'distance' weights is: 8.32894\n",
      "Time to Run: 22.493037939071655\n",
      "RMSE of KNN with 3 neighbors with 'distance' weights is: 7.93951\n",
      "Time to Run: 25.41797113418579\n",
      "RMSE of KNN with 4 neighbors with 'distance' weights is: 7.74089\n",
      "Time to Run: 30.228111505508423\n",
      "RMSE of KNN with 5 neighbors with 'distance' weights is: 7.57051\n",
      "Time to Run: 30.365530729293823\n",
      "RMSE of KNN with 6 neighbors with 'distance' weights is: 7.48292\n",
      "Time to Run: 34.302271127700806\n",
      "RMSE of KNN with 7 neighbors with 'distance' weights is: 7.43648\n",
      "Time to Run: 36.12159323692322\n",
      "RMSE of KNN with 8 neighbors with 'distance' weights is: 7.39133\n",
      "Time to Run: 33.73931264877319\n",
      "RMSE of KNN with 9 neighbors with 'distance' weights is: 7.38336\n",
      "Time to Run: 34.85382151603699\n",
      "RMSE of KNN with 10 neighbors with 'distance' weights is: 7.37951\n",
      "Time to Run: 36.90924000740051\n",
      "RMSE of KNN with 11 neighbors with 'distance' weights is: 7.33610\n",
      "Time to Run: 34.7948362827301\n",
      "RMSE of KNN with 12 neighbors with 'distance' weights is: 7.31129\n",
      "Time to Run: 40.38867163658142\n",
      "RMSE of KNN with 13 neighbors with 'distance' weights is: 7.27414\n",
      "Time to Run: 40.8058021068573\n",
      "RMSE of KNN with 14 neighbors with 'distance' weights is: 7.26476\n",
      "Time to Run: 40.172173738479614\n",
      "RMSE of KNN with 15 neighbors with 'distance' weights is: 7.25145\n",
      "Time to Run: 45.32980799674988\n",
      "RMSE of KNN with 16 neighbors with 'distance' weights is: 7.23518\n",
      "Time to Run: 42.69059896469116\n",
      "RMSE of KNN with 17 neighbors with 'distance' weights is: 7.23768\n",
      "Time to Run: 46.06835174560547\n",
      "RMSE of KNN with 18 neighbors with 'distance' weights is: 7.24165\n",
      "Time to Run: 47.48591184616089\n",
      "RMSE of KNN with 19 neighbors with 'distance' weights is: 7.24147\n",
      "Time to Run: 44.85513687133789\n",
      "RMSE of KNN with 20 neighbors with 'distance' weights is: 7.23057\n",
      "Time to Run: 44.147343158721924\n",
      "RMSE of KNN with 21 neighbors with 'distance' weights is: 7.22254\n",
      "Time to Run: 47.10151481628418\n",
      "RMSE of KNN with 22 neighbors with 'distance' weights is: 7.21332\n",
      "Time to Run: 45.57334327697754\n",
      "RMSE of KNN with 23 neighbors with 'distance' weights is: 7.20440\n",
      "Time to Run: 52.79805874824524\n",
      "RMSE of KNN with 24 neighbors with 'distance' weights is: 7.20850\n",
      "Time to Run: 53.259833574295044\n",
      "RMSE of KNN with 25 neighbors with 'distance' weights is: 7.19795\n",
      "Time to Run: 50.02741003036499\n",
      "RMSE of KNN with 26 neighbors with 'distance' weights is: 7.18529\n",
      "Time to Run: 48.15600943565369\n",
      "RMSE of KNN with 27 neighbors with 'distance' weights is: 7.17679\n",
      "Time to Run: 50.81904911994934\n",
      "RMSE of KNN with 28 neighbors with 'distance' weights is: 7.19070\n",
      "Time to Run: 50.51249933242798\n",
      "RMSE of KNN with 29 neighbors with 'distance' weights is: 7.19541\n",
      "Time to Run: 52.325371980667114\n",
      "RMSE of KNN with 30 neighbors with 'distance' weights is: 7.19308\n",
      "Time to Run: 48.467501401901245\n"
     ]
    },
    {
     "data": {
      "image/png": "[encoded data removed]",
      "text/plain": [
       "<Figure size 432x288 with 1 Axes>"
      ]
     },
     "metadata": {
      "needs_background": "light"
     },
     "output_type": "display_data"
    },
    {
     "name": "stdout",
     "output_type": "stream",
     "text": [
      "The number of neighbors with the lowest RMSE is 27, RMSE of 7.17679.\n",
      "\n",
      "RMSE of Decision Tree with 2 depth is: 7.80590\n",
      "Time to Run: 0.15475034713745117\n",
      "RMSE of Decision Tree with 3 depth is: 7.63003\n",
      "Time to Run: 0.1870412826538086\n",
      "RMSE of Decision Tree with 4 depth is: 7.49708\n",
      "Time to Run: 0.2474527359008789\n",
      "RMSE of Decision Tree with 5 depth is: 7.42024\n",
      "Time to Run: 0.26588916778564453\n",
      "RMSE of Decision Tree with 6 depth is: 7.33868\n",
      "Time to Run: 0.4196162223815918\n",
      "RMSE of Decision Tree with 7 depth is: 7.23903\n",
      "Time to Run: 0.4419400691986084\n",
      "RMSE of Decision Tree with 8 depth is: 7.26556\n",
      "Time to Run: 0.5401034355163574\n",
      "RMSE of Decision Tree with 9 depth is: 7.31521\n",
      "Time to Run: 0.570892333984375\n"
     ]
    },
    {
     "data": {
      "image/png": "[encoded data removed]",
      "text/plain": [
       "<Figure size 432x288 with 1 Axes>"
      ]
     },
     "metadata": {
      "needs_background": "light"
     },
     "output_type": "display_data"
    },
    {
     "name": "stdout",
     "output_type": "stream",
     "text": [
      "The depth with the lowest RMSE is 6, RMSE of 7.23903.\n",
      "\n",
      "RMSE of Support Vector Regression with epsilon = 0.1 is: 7.81050\n",
      "Time to Run: 1678.5393884181976\n",
      "RMSE of Support Vector Regression with epsilon = 0.2 is: 7.80735\n",
      "Time to Run: 1036.1139750480652\n",
      "RMSE of Support Vector Regression with epsilon = 0.3 is: 7.80658\n",
      "Time to Run: 387.66610193252563\n",
      "RMSE of Support Vector Regression with epsilon = 0.4 is: 7.80217\n",
      "Time to Run: 236.10371851921082\n",
      "RMSE of Support Vector Regression with epsilon = 0.5 is: 7.80091\n",
      "Time to Run: 150.24399542808533\n",
      "RMSE of Support Vector Regression with epsilon = 0.6 is: 7.79667\n",
      "Time to Run: 107.62523365020752\n",
      "RMSE of Support Vector Regression with epsilon = 0.7 is: 7.79210\n",
      "Time to Run: 101.33346629142761\n",
      "RMSE of Support Vector Regression with epsilon = 0.8 is: 7.78945\n",
      "Time to Run: 85.80779314041138\n",
      "RMSE of Support Vector Regression with epsilon = 0.9 is: 7.78821\n",
      "Time to Run: 83.42554306983948\n"
     ]
    },
    {
     "data": {
      "image/png": "[encoded data removed]",
      "text/plain": [
       "<Figure size 432x288 with 1 Axes>"
      ]
     },
     "metadata": {
      "needs_background": "light"
     },
     "output_type": "display_data"
    },
    {
     "name": "stdout",
     "output_type": "stream",
     "text": [
      "The depth with the lowest RMSE is 9, RMSE of 7.78821.\n",
      "\n"
     ]
    }
   ],
   "source": [
    "from sklearn.neighbors import KNeighborsRegressor as knnr\n",
    "from sklearn.metrics import mean_squared_error as mse\n",
    "from sklearn.tree import DecisionTreeRegressor as dtr\n",
    "from sklearn.svm import SVR\n",
    "\n",
    "if 'Rainfall' in temp_rainfall:\n",
    "    #Response variable is 'RainTomorrow'\n",
    "    y = temp_rainfall['Rainfall'].values\n",
    "    \n",
    "    #Remove response variable from dataframe\n",
    "    del temp_rainfall['Rainfall']\n",
    "    \n",
    "    #Everything else is the explanatory variables used in prediction.\n",
    "    x = temp_rainfall.values\n",
    "    \n",
    "scl_obj = sts()\n",
    "\n",
    "#Split the data into training and testing set 5 different ways, iterate through each way.\n",
    "for iter_num, (train_indices, test_indices) in enumerate(cv_object.split(x,y)):\n",
    "    \n",
    "    #Standardize the explanatory variables of the training and testing sets' means to be around 0 with a standard deviation of 1.  \n",
    "    #Each value is subtracted from the mean and divided by the standard deviation of the whole dataset.\n",
    "    scl_obj.fit(x[train_indices])\n",
    "    X_train_scaled = scl_obj.transform(x[train_indices])\n",
    "    X_test_scaled = scl_obj.transform(x[test_indices])\n",
    "    \n",
    "    rmse_val = []\n",
    "    for K in range(1,31):\n",
    "        t0=time.time()\n",
    "        knnr_clf = knnr(n_neighbors=K, weights='uniform')\n",
    "        knnr_clf.fit(X_train_scaled,y[train_indices])\n",
    "        y_hat = knnr_clf.predict(X_test_scaled)\n",
    "        error = np.sqrt(mse(y[test_indices],y_hat))\n",
    "        rmse_val.append(error)\n",
    "        print('RMSE of KNN with %d neighbors with \\'uniform\\' weights is: %.5f'%(K,error))\n",
    "        print (\"Time to Run:\", time.time()-t0)\n",
    "    #plotting the rmse values against k values\n",
    "    curve = pd.DataFrame(rmse_val) #elbow curve \n",
    "    plt.show(curve.plot())\n",
    "    print('The number of neighbors with the lowest RMSE is %d, RMSE of %.5f.' %(rmse_val.index(min(rmse_val))+1,min(rmse_val)))\n",
    "    print()\n",
    "    \n",
    "    rmse_val = []\n",
    "    for K in range(1,31):\n",
    "        t0=time.time()\n",
    "        knnr_clf = knnr(n_neighbors=K, weights='distance')\n",
    "        knnr_clf.fit(X_train_scaled,y[train_indices])\n",
    "        y_hat = knnr_clf.predict(X_test_scaled)\n",
    "        error = np.sqrt(mse(y[test_indices],y_hat))\n",
    "        rmse_val.append(error)\n",
    "        print('RMSE of KNN with %d neighbors with \\'distance\\' weights is: %.5f'%(K,error))\n",
    "        print (\"Time to Run:\", time.time()-t0)\n",
    "    #plotting the rmse values against k values\n",
    "    curve = pd.DataFrame(rmse_val) #elbow curve \n",
    "    plt.show(curve.plot())\n",
    "    print('The number of neighbors with the lowest RMSE is %d, RMSE of %.5f.' %(rmse_val.index(min(rmse_val))+1,min(rmse_val)))\n",
    "    print()\n",
    "    \n",
    "    rmse_val = []\n",
    "    for K in range(2,10):\n",
    "        t0=time.time()\n",
    "        dtr_clf = dtr(max_depth = K)\n",
    "        dtr_clf.fit(X_train_scaled,y[train_indices])\n",
    "        y_hat = dtr_clf.predict(X_test_scaled)        \n",
    "        error = np.sqrt(mse(y[test_indices],y_hat))\n",
    "        rmse_val.append(error)\n",
    "        print('RMSE of Decision Tree with %d depth is: %.5f'%(K,error))\n",
    "        print (\"Time to Run:\", time.time()-t0)\n",
    "    #plotting the rmse values against k values\n",
    "    curve = pd.DataFrame(rmse_val) #elbow curve \n",
    "    plt.show(curve.plot())\n",
    "    print('The depth with the lowest RMSE is %d, RMSE of %.5f.' %(rmse_val.index(min(rmse_val))+2,min(rmse_val)))\n",
    "    print()\n",
    "\n",
    "    rmse_val = []\n",
    "    for e in np.arange(.1,1,.1):\n",
    "        t0=time.time()\n",
    "        svr_clf = SVR(epsilon=e)\n",
    "        svr_clf.fit(X_train_scaled,y[train_indices])\n",
    "        y_hat = svr_clf.predict(X_test_scaled)\n",
    "        error = np.sqrt(mse(y[test_indices],y_hat))\n",
    "        rmse_val.append(error)\n",
    "        print('RMSE of Support Vector Regression with epsilon = %.1f is: %.5f'%(e,error))\n",
    "        print (\"Time to Run:\", time.time()-t0)\n",
    "    #plotting the rmse values against k values\n",
    "    curve = pd.DataFrame(rmse_val) #elbow curve \n",
    "    plt.show(curve.plot())\n",
    "    print('The depth with the lowest RMSE is %d, RMSE of %.5f.' %(rmse_val.index(min(rmse_val))+1,min(rmse_val)))\n",
    "    print()"
   ]
  },
  {
   "cell_type": "markdown",
   "metadata": {},
   "source": [
    "# Modeling and Evaluation 4\n",
    "<b>Analyze the results using your chosen method of evaluation. Use visualizations of the results to bolster the analysis. Explain any visuals and analyze why they are interesting to someone that might use this model. </b>"
   ]
  },
  {
   "cell_type": "markdown",
   "metadata": {},
   "source": [
    "## Task 1 Classification:  Predit if it will rain the next day or not.\n",
    "\n",
    "Logistic regression with a low cost results in the best F1 score, 59.7%.  Predicting rain for the next day with atmospheric data from the present day using the dataset downloaded is best done with logistic regression if maximizing F1 is the only criteria.  If we consider computational expenses using an 'l2', ~0.9 seconds, penalty is cheaper than the 'l1' penalty, ~1.7 seconds.  Furthermore, the Gaussian Naive Bayes Classification model took 0.09 seconds to run while giving up a little more than 1% predicting power, 58.3% F1 score.  Therefore, it is our recomendation to use the <b>Gaussian Naive Bayes</b> Classification model for this case study.\n"
   ]
  },
  {
   "cell_type": "code",
   "execution_count": 10,
   "metadata": {},
   "outputs": [
    {
     "name": "stdout",
     "output_type": "stream",
     "text": [
      "Confusion matrix\n",
      "[[14001  1924]\n",
      " [ 1764  2577]]\n",
      "F1 Measure of Gausian Naive Bayes is: 0.58290\n"
     ]
    }
   ],
   "source": [
    "from sklearn.naive_bayes import GaussianNB as gnb\n",
    "from sklearn.preprocessing import StandardScaler as sts\n",
    "from sklearn import metrics as mt\n",
    "\n",
    "temp_rainfall = rainfall.copy()\n",
    "if 'RainTomorrow' in temp_rainfall:\n",
    "    #Response variable is 'RainTomorrow'\n",
    "    y = temp_rainfall['RainTomorrow'].values\n",
    "    \n",
    "    #Remove response variable from dataframe\n",
    "    del temp_rainfall['RainTomorrow']\n",
    "    \n",
    "    #Everything else is the explanatory variables used in prediction.\n",
    "    x = temp_rainfall.values\n",
    "\n",
    "for train_indices, test_indices in cv_object.split(x,y):\n",
    "    scl_obj = sts()\n",
    "    scl_obj.fit(x[train_indices])\n",
    "    X_train_scaled = scl_obj.transform(x[train_indices])\n",
    "    X_test_scaled = scl_obj.transform(x[test_indices])\n",
    "\n",
    "gnb_clf = gnb()\n",
    "gnb_clf.fit(X_train_scaled,y[train_indices])\n",
    "y_hat = gnb_clf.predict(X_test_scaled)\n",
    "F1 = mt.f1_score(y[test_indices],y_hat)\n",
    "conf = mt.confusion_matrix(y[test_indices],y_hat)\n",
    "print(\"Confusion matrix\")\n",
    "print(conf)\n",
    "print('F1 Measure of Gausian Naive Bayes is: %.5f' %(F1))\n"
   ]
  },
  {
   "cell_type": "markdown",
   "metadata": {},
   "source": [
    "As a visual representation of the different F1 measures, see the graph below."
   ]
  },
  {
   "cell_type": "code",
   "execution_count": 34,
   "metadata": {},
   "outputs": [
    {
     "data": {
      "image/png": "[encoded data removed]",
      "text/plain": [
       "<Figure size 432x288 with 1 Axes>"
      ]
     },
     "metadata": {},
     "output_type": "display_data"
    }
   ],
   "source": [
    "plt.style.use('ggplot')\n",
    "\n",
    "x = ['KNN 7 Neighbor Uniform', 'KNN 6 Neighbor Distance', 'Gausian Naive Bayes', 'Logistic Regression L1 Cost 1', 'Logistic Regression L2 Cost 1']\n",
    "energy = [0.58146, 0.58549, 0.58320, 0.59699, 0.59699]\n",
    "\n",
    "x_pos = [i for i, _ in enumerate(x)]\n",
    "\n",
    "plt.barh(x_pos, energy, color='blue')\n",
    "\n",
    "plt.yticks(x_pos, x)\n",
    "\n",
    "plt.show()"
   ]
  },
  {
   "cell_type": "markdown",
   "metadata": {},
   "source": [
    "Since Naive Bayes treat each feature seperately from the others all features have the same importance.  If there are many features it is up to the user to accurately choose the right features.  Since our data set only has 18 features we kept all of them in the model."
   ]
  },
  {
   "cell_type": "markdown",
   "metadata": {},
   "source": [
    "## Task 2 Regression: Compute how much it rained that day.\n",
    "\n",
    "K Nearest Neighbors with 27 neighbors results in the best RMSE, 7.18.  Predicting the amount of rain for a given day with atmospheric data from that day using the dataset downloaded is best done with KNN if minimizing RMSE is the only criteria.  However, if efficiency is also considered using a Decision Tree, less than 1 second, is a better choice than KNN, ~50 seconds.  A Decision Tree with a maximum depth of 7 slighly increase the RMSE to 7.24.  Therefore, it is our recomendation to use the <b>Decision Tree model</b> with a max depth of 7 for this case study."
   ]
  },
  {
   "cell_type": "code",
   "execution_count": 65,
   "metadata": {},
   "outputs": [
    {
     "name": "stdout",
     "output_type": "stream",
     "text": [
      "RMSE of Decision Tree with a max depth of 7 is: 7.29516\n"
     ]
    }
   ],
   "source": [
    "from sklearn.tree import DecisionTreeRegressor as dtr\n",
    "\n",
    "if 'Rainfall' in temp_rainfall:\n",
    "    #Response variable is 'RainTomorrow'\n",
    "    y = temp_rainfall['Rainfall'].values\n",
    "    \n",
    "    #Remove response variable from dataframe\n",
    "    del temp_rainfall['Rainfall']\n",
    "    \n",
    "    #Everything else is the explanatory variables used in prediction.\n",
    "    x = temp_rainfall.values\n",
    "\n",
    "for train_indices, test_indices in cv_object.split(x,y):\n",
    "    scl_obj = sts()\n",
    "    scl_obj.fit(x[train_indices])\n",
    "    X_train_scaled = scl_obj.transform(x[train_indices])\n",
    "    X_test_scaled = scl_obj.transform(x[test_indices])\n",
    "\n",
    "dtr_clf = dtr(max_depth = 7)\n",
    "dtr_clf.fit(X_train_scaled,y[train_indices])\n",
    "y_hat = dtr_clf.predict(X_test_scaled)        \n",
    "error = np.sqrt(mt.mean_squared_error(y[test_indices],y_hat))\n",
    "print('RMSE of Decision Tree with a max depth of 7 is: %.5f'%(error))\n"
   ]
  },
  {
   "cell_type": "code",
   "execution_count": 85,
   "metadata": {},
   "outputs": [
    {
     "data": {
      "image/png": "[encoded data removed]",
      "text/plain": [
       "<Figure size 432x288 with 1 Axes>"
      ]
     },
     "metadata": {},
     "output_type": "display_data"
    }
   ],
   "source": [
    "feature_imp = pd.DataFrame(data={'imp': dtr_clf.feature_importances_}, index=temp_rainfall.columns)\n",
    "feature_imp = feature_imp.sort_values(by=['imp'])\n",
    "\n",
    "y_pos = np.arange(len(feature_imp))\n",
    "performance = [10,8,6,4,2,1]\n",
    " \n",
    "plt.bar(y_pos, feature_imp['imp'], align='center', alpha=0.5)\n",
    "plt.xticks(y_pos, feature_imp.index)\n",
    "plt.xticks(rotation=45, ha='right')\n",
    "plt.ylabel('Importance')\n",
    "plt.title('Importance of Features')\n",
    " \n",
    "plt.show()\n"
   ]
  },
  {
   "cell_type": "markdown",
   "metadata": {},
   "source": [
    "# Modeling and Evaluation 5\n",
    "<b>Discuss the advantages of each model for each classification task, if any. If there are not advantages, explain why. Is any model better than another? Is the difference significant with 95% confidence? Use proper statistical comparison methods. You must use statistical comparison techniques—be sure they are appropriate for your chosen method of validation as discussed in unit 7 of the course.</b>"
   ]
  },
  {
   "cell_type": "markdown",
   "metadata": {},
   "source": [
    "Most of the models performed about the same, however there were slight differences which led us to choose a preferred model.  For classification, Gaussian Naive Bayes was preferred for it's speed and efficiency. For the regression model, was also chosen for it's slightly better score with a much better efficiency."
   ]
  },
  {
   "cell_type": "markdown",
   "metadata": {},
   "source": [
    "Additionally, when using our method of validation, we chose F1 even though Accuracy would have given a higher accuracy rate. As shown below, the Accuracy is measured as 0.818 and F1 is measured at 0.583. Accuracy is not the most precise mesaure because Accuracy doesn't account for the large number of days of 'rain tomorrow' that are in our data set as compared with 'no rain tomorrow'. It is expected to have a much higher calculated measure with Accuracy because of this difference."
   ]
  },
  {
   "cell_type": "code",
   "execution_count": 15,
   "metadata": {},
   "outputs": [
    {
     "name": "stdout",
     "output_type": "stream",
     "text": [
      "Confusion matrix\n",
      "[[14001  1924]\n",
      " [ 1764  2577]]\n",
      "F1 Measure of Gausian Naive Bayes is: 0.58290\n"
     ]
    }
   ],
   "source": [
    "gnb_clf = gnb()\n",
    "gnb_clf.fit(X_train_scaled,y[train_indices])\n",
    "y_hat = gnb_clf.predict(X_test_scaled)\n",
    "F1 = mt.f1_score(y[test_indices],y_hat)\n",
    "conf = mt.confusion_matrix(y[test_indices],y_hat)\n",
    "print(\"Confusion matrix\")\n",
    "print(conf)\n",
    "print('F1 Measure of Gausian Naive Bayes is: %.5f' %(F1))\n"
   ]
  },
  {
   "cell_type": "code",
   "execution_count": 16,
   "metadata": {},
   "outputs": [
    {
     "name": "stdout",
     "output_type": "stream",
     "text": [
      "Confusion matrix\n",
      "[[14001  1924]\n",
      " [ 1764  2577]]\n",
      "Accuracy Measure of Gausian Naive Bayes is: 0.81802\n"
     ]
    }
   ],
   "source": [
    "gnb_clf = gnb()\n",
    "gnb_clf.fit(X_train_scaled,y[train_indices])\n",
    "y_hat = gnb_clf.predict(X_test_scaled)\n",
    "Accuracy = mt.accuracy_score(y[test_indices],y_hat)\n",
    "conf = mt.confusion_matrix(y[test_indices],y_hat)\n",
    "print(\"Confusion matrix\")\n",
    "print(conf)\n",
    "print('Accuracy Measure of Gausian Naive Bayes is: %.5f' %(Accuracy))\n"
   ]
  },
  {
   "cell_type": "markdown",
   "metadata": {},
   "source": [
    "# Modeling and Evaluation 6\n",
    "<b>Which attributes from your analysis are most important? Use proper methods discussed in class to evaluate the importance of different attributes. Discuss the results and hypothesize about why certain attributes are more important than others for a given classification task.</b>"
   ]
  },
  {
   "cell_type": "code",
   "execution_count": null,
   "metadata": {},
   "outputs": [],
   "source": []
  },
  {
   "cell_type": "markdown",
   "metadata": {},
   "source": [
    "# Deployment\n",
    "<b>How useful is your model for interested parties (i.e., the companies or organizations that might want to use it for prediction)? How would you measure the model's value if it was used by these parties? How would your deploy your model for interested parties? What other data should be collected? How often would the model need to be updated, etc.?</b>\n",
    "\n",
    "- Our model would be very useful for any businesses or organizations or individuals that are planning day-to-day activities that can be affected by rain.  Farmers need information to help plan for planting and harvesting crops.  Airports require rain information to prepare for flight delays and/or cancellations.  Weather forecasting in general helps individuals make informed daily decisions (and in some cases, save lives).    \n",
    "\n",
    "- To measure the model's value, we could use some sort of Retroactive Verification or Analysis to log and audit the accuracy of our model.  This could include something as simple as \"Did it rain when our model said it would?\"  From there, a business analyst could assign monetary values (both positive and negative) for the organization's decision based on our prediction.  In the case of an Airport, if our model predicts rain tomorrow, the business analyst could recommend to the operations director to reduce staff by 10% since there would be flight cancellations - less support required.  This would save the airport a great deal of money - the inverse could happen costing the airport a lot of money.  \n",
    "\n",
    "- The model could be deployed in various platforms but we could see this as an API that inserts into the organizations business application database.  In general, weather forecasting requires a combination of computer modeling, observation, and a domain expert with knowledge of trends and patterns.  \n",
    "\n",
    "- Ultimately, our model would be a spring board for forecasting out past one day.   As most organizations need maximum time to plan, we would need to collect more data aside from what is currently in this example.  A couple that come to mind would be satellite imagery to observe cloud patterns around the world or the use of radar to measure precipitation.  We could also gather previous patterns and trends from last year or year's past to gauge similarities and differences.\n",
    "\n",
    "- Initially, the model would need to be updated weekly and up until we can get to a goal of 80% accuracy.  This could take months to years as climate is constantly changing, which effects the prediction of rain.  Our guess would be the model will require periodic changes and never stops changing as the prediction accuracy could flutuate.  \n",
    "\n"
   ]
  },
  {
   "cell_type": "markdown",
   "metadata": {},
   "source": [
    "# Exceptional Work\n",
    "<b>You have free reign to provide additional analyses. One idea: grid search parameters in a parallelized fashion and visualize the performances across attributes. Which parameters are most significant for making a good model for each classification algorithm</b>"
   ]
  },
  {
   "cell_type": "code",
   "execution_count": null,
   "metadata": {},
   "outputs": [],
   "source": []
  }
 ],
 "metadata": {
  "kernelspec": {
   "display_name": "Python 3",
   "language": "python",
   "name": "python3"
  },
  "language_info": {
   "codemirror_mode": {
    "name": "ipython",
    "version": 3
   },
   "file_extension": ".py",
   "mimetype": "text/x-python",
   "name": "python",
   "nbconvert_exporter": "python",
   "pygments_lexer": "ipython3",
   "version": "3.6.5"
  }
 },
 "nbformat": 4,
 "nbformat_minor": 2
}
