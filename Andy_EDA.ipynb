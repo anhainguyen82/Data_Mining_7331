{
 "cells": [
  {
   "cell_type": "code",
   "execution_count": 1,
   "metadata": {},
   "outputs": [],
   "source": [
    "import pandas as pd\n",
    "import numpy as np\n",
    "import matplotlib.pyplot as plt\n",
    "import warnings\n",
    "warnings.simplefilter('ignore', DeprecationWarning)\n",
    "%matplotlib inline\n",
    "\n",
    "#Import data from data file and name it math2018\n",
    "\n",
    "excel_file = 'mathdownload2018.xlsx'\n",
    "math2018=pd.read_excel(excel_file)"
   ]
  },
  {
   "cell_type": "code",
   "execution_count": 3,
   "metadata": {},
   "outputs": [
    {
     "name": "stdout",
     "output_type": "stream",
     "text": [
      "<class 'pandas.core.frame.DataFrame'>\n",
      "RangeIndex: 148933 entries, 0 to 148932\n",
      "Data columns (total 32 columns):\n",
      "cds                 148933 non-null int64\n",
      "rtype               148933 non-null object\n",
      "schoolname          134824 non-null object\n",
      "districtname        148916 non-null object\n",
      "countyname          148916 non-null object\n",
      "charter_flag        15685 non-null object\n",
      "coe_flag            487 non-null object\n",
      "dass_flag           7804 non-null object\n",
      "studentgroup        148933 non-null object\n",
      "currdenom           148933 non-null int64\n",
      "currdenom_swd       10205 non-null float64\n",
      "currstatus          97487 non-null float64\n",
      "priordenom          148842 non-null float64\n",
      "priordenom_swd      9952 non-null float64\n",
      "priorstatus         96934 non-null float64\n",
      "change              93435 non-null float64\n",
      "statuslevel         148933 non-null int64\n",
      "changelevel         148933 non-null int64\n",
      "color               148933 non-null int64\n",
      "box                 148933 non-null int64\n",
      "hscutpoints         25661 non-null object\n",
      "curradjustment      8577 non-null float64\n",
      "prioradjustment     9795 non-null float64\n",
      "pairshare_method    91 non-null object\n",
      "caa_denom           10781 non-null float64\n",
      "caa_level1_num      1411 non-null float64\n",
      "caa_level1_pct      1411 non-null float64\n",
      "caa_level2_num      1411 non-null float64\n",
      "caa_level2_pct      1411 non-null float64\n",
      "caa_level3_num      1411 non-null float64\n",
      "caa_level3_pct      1411 non-null float64\n",
      "ReportingYear       148933 non-null int64\n",
      "dtypes: float64(15), int64(7), object(10)\n",
      "memory usage: 36.4+ MB\n"
     ]
    }
   ],
   "source": [
    "math2018.info()"
   ]
  },
  {
   "cell_type": "code",
   "execution_count": 4,
   "metadata": {
    "scrolled": true
   },
   "outputs": [
    {
     "data": {
      "text/plain": [
       "cds                  0.000000\n",
       "rtype                0.000000\n",
       "schoolname           9.473387\n",
       "districtname         0.011415\n",
       "countyname           0.011415\n",
       "charter_flag        89.468419\n",
       "coe_flag            99.673007\n",
       "dass_flag           94.760060\n",
       "studentgroup         0.000000\n",
       "currdenom            0.000000\n",
       "currdenom_swd       93.147926\n",
       "currstatus          34.543050\n",
       "priordenom           0.061101\n",
       "priordenom_swd      93.317801\n",
       "priorstatus         34.914357\n",
       "change              37.263736\n",
       "statuslevel          0.000000\n",
       "changelevel          0.000000\n",
       "color                0.000000\n",
       "box                  0.000000\n",
       "hscutpoints         82.770105\n",
       "curradjustment      94.241035\n",
       "prioradjustment     93.423217\n",
       "pairshare_method    99.938899\n",
       "caa_denom           92.761174\n",
       "caa_level1_num      99.052594\n",
       "caa_level1_pct      99.052594\n",
       "caa_level2_num      99.052594\n",
       "caa_level2_pct      99.052594\n",
       "caa_level3_num      99.052594\n",
       "caa_level3_pct      99.052594\n",
       "ReportingYear        0.000000\n",
       "dtype: float64"
      ]
     },
     "execution_count": 4,
     "metadata": {},
     "output_type": "execute_result"
    }
   ],
   "source": [
    "#check percentage of missing values in each feature\n",
    "math2018.isnull().sum()/len(math2018)*100"
   ]
  },
  {
   "cell_type": "code",
   "execution_count": 5,
   "metadata": {},
   "outputs": [
    {
     "data": {
      "text/plain": [
       "['cds',\n",
       " 'rtype',\n",
       " 'schoolname',\n",
       " 'districtname',\n",
       " 'countyname',\n",
       " 'studentgroup',\n",
       " 'currdenom',\n",
       " 'currstatus',\n",
       " 'priordenom',\n",
       " 'priorstatus',\n",
       " 'change',\n",
       " 'statuslevel',\n",
       " 'changelevel',\n",
       " 'color',\n",
       " 'box',\n",
       " 'ReportingYear']"
      ]
     },
     "execution_count": 5,
     "metadata": {},
     "output_type": "execute_result"
    }
   ],
   "source": [
    "# saving missing values in a variable\n",
    "missing_perc = math2018.isnull().sum()/len(math2018)*100\n",
    "\n",
    "# saving column names in a variable\n",
    "variables = math2018.columns\n",
    "variable = []\n",
    "\n",
    "# setting threshold as 40% to imputing features above it\n",
    "for i in range (0,32):\n",
    "    if missing_perc[i]<=40: \n",
    "        variable.append(variables[i])\n",
    "\n",
    "variable"
   ]
  },
  {
   "cell_type": "code",
   "execution_count": 6,
   "metadata": {},
   "outputs": [
    {
     "data": {
      "text/plain": [
       "['rtype',\n",
       " 'schoolname',\n",
       " 'districtname',\n",
       " 'countyname',\n",
       " 'studentgroup',\n",
       " 'currdenom',\n",
       " 'currstatus',\n",
       " 'priordenom',\n",
       " 'priorstatus',\n",
       " 'change',\n",
       " 'statuslevel',\n",
       " 'changelevel',\n",
       " 'color',\n",
       " 'box']"
      ]
     },
     "execution_count": 6,
     "metadata": {},
     "output_type": "execute_result"
    }
   ],
   "source": [
    "# manually dropping remaining features that are not signficant: cds, reporting year\n",
    "del variable[-1]\n",
    "del variable[0]\n",
    "variable"
   ]
  },
  {
   "cell_type": "code",
   "execution_count": 7,
   "metadata": {},
   "outputs": [
    {
     "data": {
      "text/plain": [
       "cds                1.988583e+26\n",
       "currdenom          1.524731e+08\n",
       "currdenom_swd      1.289671e+07\n",
       "currstatus         4.452180e+03\n",
       "priordenom         1.542608e+08\n",
       "priordenom_swd     1.265432e+07\n",
       "priorstatus        4.235754e+03\n",
       "change             3.283461e+02\n",
       "statuslevel        2.391942e+00\n",
       "changelevel        3.437627e+00\n",
       "color              2.267563e+00\n",
       "box                6.855915e+03\n",
       "curradjustment     6.081766e+00\n",
       "prioradjustment    5.448329e+00\n",
       "caa_denom          1.217150e+05\n",
       "caa_level1_num     3.869390e+05\n",
       "caa_level1_pct     4.463469e+02\n",
       "caa_level2_num     7.054336e+04\n",
       "caa_level2_pct     2.514173e+02\n",
       "caa_level3_num     5.733553e+03\n",
       "caa_level3_pct     1.274645e+02\n",
       "ReportingYear      0.000000e+00\n",
       "dtype: float64"
      ]
     },
     "execution_count": 7,
     "metadata": {},
     "output_type": "execute_result"
    }
   ],
   "source": [
    "# variance of each feature\n",
    "math2018.var()"
   ]
  },
  {
   "cell_type": "code",
   "execution_count": 8,
   "metadata": {},
   "outputs": [],
   "source": [
    "# subset math2018 by selecting only features of interest (has less than 40% missing values)\n",
    "math2018_subset = math2018[variable]"
   ]
  },
  {
   "cell_type": "code",
   "execution_count": 9,
   "metadata": {},
   "outputs": [],
   "source": [
    "# correlation calculation for the remaining features of interest. looking for correlations higher than 0.6.  \n",
    "# May need to remove one of the highly correlated features.  First remove the dependent variable: currstatus\n",
    "df = math2018_subset.drop('currstatus', 1)\n",
    "corr = df.corr()"
   ]
  },
  {
   "cell_type": "code",
   "execution_count": 11,
   "metadata": {},
   "outputs": [
    {
     "data": {
      "text/plain": [
       "<matplotlib.axes._subplots.AxesSubplot at 0x126d38ef0>"
      ]
     },
     "execution_count": 11,
     "metadata": {},
     "output_type": "execute_result"
    },
    {
     "data": {
      "image/png": "[encoded data removed]",
      "text/plain": [
       "<Figure size 792x648 with 2 Axes>"
      ]
     },
     "metadata": {
      "needs_background": "light"
     },
     "output_type": "display_data"
    }
   ],
   "source": [
    "import seaborn as sns\n",
    "mask = np.zeros_like(corr, dtype=np.bool)\n",
    "mask[np.triu_indices_from(mask)] = True\n",
    "\n",
    "# Set up the matplotlib figure\n",
    "f, ax = plt.subplots(figsize=(11, 9))\n",
    "\n",
    "# Generate a custom diverging colormap\n",
    "cmap = sns.diverging_palette(220, 10, as_cmap=True)\n",
    "\n",
    "# Draw the heatmap with the mask and correct aspect ratio\n",
    "sns.heatmap(corr, mask=mask, cmap=cmap, vmax=.3, center=0,\n",
    "            square=True, linewidths=.5, cbar_kws={\"shrink\": .5})"
   ]
  },
  {
   "cell_type": "code",
   "execution_count": 12,
   "metadata": {},
   "outputs": [],
   "source": [
    "# drop priordenom since it's highly correlated to currdenom\n",
    "df = math2018_subset.drop('priordenom', 1)"
   ]
  },
  {
   "cell_type": "code",
   "execution_count": 13,
   "metadata": {},
   "outputs": [
    {
     "name": "stdout",
     "output_type": "stream",
     "text": [
      "<class 'pandas.core.frame.DataFrame'>\n",
      "RangeIndex: 148933 entries, 0 to 148932\n",
      "Data columns (total 13 columns):\n",
      "rtype           148933 non-null object\n",
      "schoolname      134824 non-null object\n",
      "districtname    148916 non-null object\n",
      "countyname      148916 non-null object\n",
      "studentgroup    148933 non-null object\n",
      "currdenom       148933 non-null int64\n",
      "currstatus      97487 non-null float64\n",
      "priorstatus     96934 non-null float64\n",
      "change          93435 non-null float64\n",
      "statuslevel     148933 non-null int64\n",
      "changelevel     148933 non-null int64\n",
      "color           148933 non-null int64\n",
      "box             148933 non-null int64\n",
      "dtypes: float64(3), int64(5), object(5)\n",
      "memory usage: 14.8+ MB\n"
     ]
    }
   ],
   "source": [
    "# RandomForest.  From the subset of math2018, need to drop any features that is non-numeric\n",
    "df.info()"
   ]
  },
  {
   "cell_type": "code",
   "execution_count": 14,
   "metadata": {},
   "outputs": [
    {
     "name": "stdout",
     "output_type": "stream",
     "text": [
      "<class 'pandas.core.frame.DataFrame'>\n",
      "RangeIndex: 148933 entries, 0 to 148932\n",
      "Data columns (total 8 columns):\n",
      "currdenom      148933 non-null int64\n",
      "currstatus     97487 non-null float64\n",
      "priorstatus    96934 non-null float64\n",
      "change         93435 non-null float64\n",
      "statuslevel    148933 non-null int64\n",
      "changelevel    148933 non-null int64\n",
      "color          148933 non-null int64\n",
      "box            148933 non-null int64\n",
      "dtypes: float64(3), int64(5)\n",
      "memory usage: 9.1 MB\n"
     ]
    }
   ],
   "source": [
    "# dropping features that are non-numeric\n",
    "df = df.drop(['rtype', 'schoolname', 'districtname', 'countyname', 'studentgroup'],1)\n",
    "df.info()"
   ]
  },
  {
   "cell_type": "code",
   "execution_count": 15,
   "metadata": {},
   "outputs": [],
   "source": [
    "# dropping rows of currstatus with NA\n",
    "df = df.dropna(subset=[\"currstatus\"], inplace=True)\n",
    "\n",
    "df\n",
    "from sklearn.ensemble import RandomForestRegressor\n",
    "model = RandomForestRegressor(random_state=1, max_depth=10)\n",
    "df = pd.get_dummies(df)\n",
    "model.fit(df, math2018_subset.currstatus)"
   ]
  },
  {
   "cell_type": "code",
   "execution_count": null,
   "metadata": {},
   "outputs": [],
   "source": []
  }
 ],
 "metadata": {
  "kernelspec": {
   "display_name": "Python 3",
   "language": "python",
   "name": "python3"
  },
  "language_info": {
   "codemirror_mode": {
    "name": "ipython",
    "version": 3
   },
   "file_extension": ".py",
   "mimetype": "text/x-python",
   "name": "python",
   "nbconvert_exporter": "python",
   "pygments_lexer": "ipython3",
   "version": "3.7.0"
  }
 },
 "nbformat": 4,
 "nbformat_minor": 2
}
