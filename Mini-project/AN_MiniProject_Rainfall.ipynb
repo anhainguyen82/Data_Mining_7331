{
 "cells": [
  {
   "cell_type": "markdown",
   "metadata": {},
   "source": [
    "# <center>Mini-Project: SVM & LR Classification</center>\n",
    "<center><font size = \"4\"> 2017-2018 California Department of Education Mathmematics Achievement</font></center>\n",
    "\n",
    "##### <center>Created by An Nguyen, Andy Ho, Jodi Pafford, Tori Wheelis</center>\n",
    "<center> February 06, 2019</center>"
   ]
  },
  {
   "cell_type": "code",
   "execution_count": 369,
   "metadata": {},
   "outputs": [],
   "source": [
    "import pandas as pd\n",
    "import numpy as np\n",
    "import datetime as dt\n",
    "from __future__ import print_function\n",
    "from sklearn.model_selection import ShuffleSplit\n",
    "from sklearn.linear_model import LogisticRegression\n",
    "from sklearn import metrics as mt\n",
    "\n",
    "rainfall_original = pd.read_csv('weatherAus.csv') "
   ]
  },
  {
   "cell_type": "code",
   "execution_count": 370,
   "metadata": {},
   "outputs": [
    {
     "name": "stdout",
     "output_type": "stream",
     "text": [
      "<class 'pandas.core.frame.DataFrame'>\n",
      "RangeIndex: 140787 entries, 0 to 140786\n",
      "Data columns (total 23 columns):\n",
      "Date             140787 non-null datetime64[ns]\n",
      "Location         140787 non-null object\n",
      "MinTemp          140319 non-null float64\n",
      "MaxTemp          140480 non-null float64\n",
      "Rainfall         140787 non-null float64\n",
      "Evaporation      81093 non-null float64\n",
      "Sunshine         73982 non-null float64\n",
      "WindGustDir      131624 non-null object\n",
      "WindGustSpeed    131682 non-null float64\n",
      "WindDir9am       131127 non-null object\n",
      "WindDir3pm       137117 non-null object\n",
      "WindSpeed9am     139732 non-null float64\n",
      "WindSpeed3pm     138256 non-null float64\n",
      "Humidity9am      139270 non-null float64\n",
      "Humidity3pm      137286 non-null float64\n",
      "Pressure9am      127044 non-null float64\n",
      "Pressure3pm      127018 non-null float64\n",
      "Cloud9am         88162 non-null float64\n",
      "Cloud3pm         84693 non-null float64\n",
      "Temp9am          140131 non-null float64\n",
      "Temp3pm          138163 non-null float64\n",
      "RainToday        140787 non-null object\n",
      "RainTomorrow     140787 non-null object\n",
      "dtypes: datetime64[ns](1), float64(16), object(6)\n",
      "memory usage: 24.7+ MB\n"
     ]
    }
   ],
   "source": [
    "rainfall = rainfall_original\n",
    "rainfall.drop([\"RISK_MM\"], axis=1, inplace=True) #RISK_MM was used to extrapolate response variable.\n",
    "rainfall['Date'] =  pd.to_datetime(rainfall['Date'], format='%Y-%m-%d') #change 'Date' variable to datetime64\n",
    "rainfall.dropna(subset=[\"RainToday\"], inplace=True) #drop any observation with no record of rainfall for the day, cannot be imputed\n",
    "rainfall = rainfall.reset_index(drop=True) #reset the index after drops\n",
    "rainfall.info()"
   ]
  },
  {
   "cell_type": "code",
   "execution_count": 371,
   "metadata": {},
   "outputs": [],
   "source": [
    "def impute_by_city(cities,variables):\n",
    "    for c in cities:\n",
    "        temp = rainfall[rainfall.Location == c]\n",
    "        i = min(temp.index)\n",
    "        while i < max(temp.index):\n",
    "            for v in variables:\n",
    "                if pd.isna(temp[v]).all():\n",
    "                    pass\n",
    "                elif pd.isna(temp[v][i]):\n",
    "                    temp[v][i] = find_mean(temp[v], i)\n",
    "                    rainfall[v][i] = temp[v][i]\n",
    "            i\n",
    "            i = i + 1       \n",
    "\n",
    "def find_mean(templist, index):\n",
    "    if index == min(templist.index):\n",
    "        return find_top(templist, index)\n",
    "    elif index == max(templist.index):\n",
    "        return find_bottom(templist, index)\n",
    "    else:\n",
    "        bottom = find_bottom(templist, index)\n",
    "        top = find_top(templist, index)\n",
    "    mean = (top + bottom)/2\n",
    "    return mean\n",
    "\n",
    "def find_bottom(templist, index):\n",
    "    while pd.isna(templist[index-1]):\n",
    "        index = index-1\n",
    "    bottom = templist[index-1]\n",
    "    return bottom\n",
    "    \n",
    "def find_top(templist, index):\n",
    "    while pd.isna(templist[index+1]):\n",
    "        index = index+1\n",
    "    top = templist[index+1]\n",
    "    return top          "
   ]
  },
  {
   "cell_type": "code",
   "execution_count": 394,
   "metadata": {},
   "outputs": [],
   "source": [
    "directions = {'N':0, 'NNE':22.5, 'NE':45, 'NE':45, 'ENE':67.5, 'E':90, 'ESE':112.5, 'SE':135, 'SSE':157.5, 'S':180,\\\n",
    "              'SSW':202.5, 'SW':225, 'WSW':247.5, 'W':270, 'WNW':292.5, 'NW':315, 'NNW':337.5}\n",
    "cities = rainfall.Location.unique()\n",
    "c_variables = []\n",
    "d_variables = []\n",
    "for l in list(rainfall):\n",
    "    if (rainfall[l].dtypes == 'float64'):\n",
    "        c_variables.append(l)\n",
    "    else:\n",
    "        d_variables.append(l)\n",
    "        \n",
    "rainfall = rainfall.replace(directions)\n",
    "rainfall.RainToday = rainfall.RainToday=='Yes'\n",
    "rainfall.RainToday = rainfall.RainToday.astype(np.int)\n",
    "rainfall.RainTomorrow = rainfall.RainTomorrow=='Yes'\n",
    "rainfall.RainTomorrow = rainfall.RainTomorrow.astype(np.int)\n",
    "\n",
    "#impute_by_city(cities, c_variables)"
   ]
  }
 ],
 "metadata": {
  "anaconda-cloud": {},
  "kernelspec": {
   "display_name": "Python 3",
   "language": "python",
   "name": "python3"
  },
  "language_info": {
   "codemirror_mode": {
    "name": "ipython",
    "version": 3
   },
   "file_extension": ".py",
   "mimetype": "text/x-python",
   "name": "python",
   "nbconvert_exporter": "python",
   "pygments_lexer": "ipython3",
   "version": "3.7.0"
  },
  "widgets": {
   "state": {
    "4c41474cfeee4f77959ec7a366881a57": {
     "views": [
      {
       "cell_index": 14
      }
     ]
    }
   },
   "version": "1.2.0"
  }
 },
 "nbformat": 4,
 "nbformat_minor": 1
}
