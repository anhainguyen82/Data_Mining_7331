{
 "cells": [
  {
   "cell_type": "markdown",
   "metadata": {},
   "source": [
    "# Business Understanding (10)\n",
    "\t\n",
    "   This dataset contains information from schools within the California Department of Education. It specifically addresses school progress on standardized tests in Mathematics during the 2017-2018 school year. In part, the data will be used to support Local Education Agencies (LEA) in identifying strengths, weaknesses, and areas for improvement; assist in determining whether LEAs are eligible for assistance; and assist the SSPI in determining whether LEAs are eligible for more intensive state support/intervention. The school accountability system in California has 10 priorities. This dataset looks at one part of the 4th priority: Student Achievement. The dataset used in this analysis pertains specifically to its Mathematics curriculum and the progress made from 2017 school year and the 2018 school year.  \n",
    "   From this dataset, we will look at how the state, each county, LEA, and campus increased or decreased their average distance above or below the passing standard score. This dataset also allows us to look at different programs (English Learner, Socioeconomic Disadvantaged, Students with Disabilities, Foster Youth, Homeless Youth) and race/ethnicities (Black/African American, American Indian or Alaska Native, Asian, Filipino, Hispanic, Pacific Islander, White, Multiples Races/Two or More).  This project will address what difference in performance progress were seen between public and charter schools and its respective population subgroups, as described above. The outcome from this will give insight to California on the performance progress in order to help lawmakers better fund schools.\n",
    "\n",
    "-\tIs one subgroup out/underperforming another? \n",
    "-\tHow do districts compare performance wise? County Offices of Education? What about with subgroups?\n",
    "-\tCharter v. Traditional schools? What about with subgroups? \n",
    "-\tAny impacts/trends by # of kids tested?\n",
    " \n",
    "Data is important because\n",
    "-\tIt tells you how students performed on the CAASPP (state wide) test\n",
    "-\tIt tells you what achievement/performance gaps exist - so policy can be made to address these issues"
   ]
  },
  {
   "cell_type": "markdown",
   "metadata": {},
   "source": [
    "# Data Meaning Type (10)\n",
    "*An is putting this part together*"
   ]
  },
  {
   "cell_type": "markdown",
   "metadata": {},
   "source": [
    "# Data Quality (15)\n",
    "\n",
    "   At first glance, you will notice that the ‘All’ category total in any line is less adding up all the lines for similar campuses.  This is happening because a student may be in several different categories (i.e., a student may be White (WH), in foster care (FOS), be living in a low socio-economic status (SED) and be served by special education (SWD) – student will ‘count’ in 4 of the 16 categories listed). No edits were needed for this phenomenon. \n",
    "Additionally, there were columns of data that we choose to eliminate from the data altogether.  There were 7 columns at the end of the dataset that give the data for the “California Alternate Assessment”.  This test is usually given to students served by special education who have profound disabilities and are unable to complete the same test as others.  There are approximately 1% of the total population who are included, and the data does not support our current research, therefore, these columns are also deleted.\n",
    "Next, we found a column of data called “pairshare_method”.  If a campus does not include students of a testing grade level (i.e. PK campuses) or the campus only serves special populations (i.e., mental health hospital), the data is often paired with another campus in the district or charter.  If we kept this data in our dataset, these would be duplicates.  Therefore, the lines of data were deleted and then the column was deleted.\n",
    "There are many missing values, however, they are not mistakes.  The values that are missing appear when a population has 10 or fewer students represented.  When this occurs, the data is not calculated for the purpose of this data file and state accountability ratings.  As we look at the data, you will notice some of the larger category averages come out to NaN (Not a Number) because each individual total is 10 or fewer.   We chose to delete these lines from our dataset because the data we need to calculate is not included for these lines. \n",
    "\n",
    "Simple Statistics (10)\n",
    "We ran df.describe() on the full dataset to understand the range, average, and quartile of the numerical values.  Due to the way the data is setup, this doesn’t give us very much information.  From this output, however, we can use the ‘count’ to find out the location of most of our ‘NaN’.\n",
    "\n",
    "**I can talk about the stats done with the groupby data here but we may want to run some more ‘simple statistics’ here so that we have more ‘baseline’ before we jump to the ‘fancy’ stuff.**  "
   ]
  },
  {
   "cell_type": "markdown",
   "metadata": {},
   "source": [
    "# Simple Statistics (10)\n",
    "We ran df.describe() on the full dataset to understand the range, average, and quartile of the numerical values.  Due to the way the data is setup, this doesn’t give us very much information.  From this output, however, we can use the ‘count’ to find out the location of most of our ‘NaN’.\n",
    "\n",
    "**I can talk about the stats done with the groupby data here but we may want to run some more ‘simple statistics’ here so that we have more ‘baseline’ before we jump to the ‘fancy’ stuff.**  \n"
   ]
  },
  {
   "cell_type": "markdown",
   "metadata": {},
   "source": [
    "# Visualize Attributes (15)\n",
    "**Need more ‘basic’ stuff…the fancy stuff all belongs in the description of the Joint Attributes**\n",
    "Maybe pull out a few of the subpops and then take Charter and Public and run some stuff there.??  Just an idea.  We need to visualize at least 5 attributes."
   ]
  },
  {
   "cell_type": "markdown",
   "metadata": {},
   "source": [
    "# Explore Joint Attributes (15)\n",
    "In order to get a better look at the SchoolType and the studentgroup, we used groupby to create a group-wise average. When we looked at these data, we found some significant differences in the average distance from passing between the different school types and student groups.  \n",
    "**One significant finding.... (mention drop in student in foster care in charter schools)**\n",
    "\n",
    "Additionally, we created a cross-tabulation chart to enable us to visualize the information in barplot form.  Seeing this visually, enabled us to see the stark differences in the average distance from passing in each school type.\n",
    "**Write up more detail about this too**"
   ]
  },
  {
   "cell_type": "markdown",
   "metadata": {},
   "source": [
    "# Explore Attributes and Class (10)\n",
    "**Are we supposed to expand what we noticed above?  How is this different than the two sections above?**"
   ]
  },
  {
   "cell_type": "markdown",
   "metadata": {},
   "source": [
    "# New Features (5)\n",
    "The data is presented in such a way that made comparing different school types difficult. There are various columns with a 'Y' or blank entry, each based on the data being from either a Charter School, County Entity, or an Alternative School (3 separate columns).  Additionally, there is another column that tells us if the data is from either state, district/LEA, or school (1 column).  In order to get one label for each line of data based on this data, a new feature was created called SchoolType.  The options created based on the 4 columns mentioned above are Public, Charter, AltPublic, AltCharter, District, County, and State. "
   ]
  },
  {
   "cell_type": "markdown",
   "metadata": {},
   "source": [
    "# Exceptional Work (10)\n",
    "**This isn't really 'additional analyses' because it's the same analysis on a smaller subset.... may need to dig a little deeper here.**\n",
    "In order to better visualize the information from the student groups column, we split the data into two different groupings.  One grouping is all race/ethnicity categories.  The other grouping is all of the various special programs that are measured.  The \"ALL\" category was left out as it is simply the average of the averages all together."
   ]
  }
 ],
 "metadata": {
  "document": {
   "authors": {
    "author1": {
     "name": "Andy Ho"
    },
    "author2": {
     "name": "An Nguyen"
    },
    "author3": {
     "name": "Jodi Pafford"
    },
    "author4": {
     "name": "Tori Wheelis"
    }
   },
   "title": "Lab One: Visualization and Data Preprocessing"
  },
  "kernelspec": {
   "display_name": "Python 3",
   "language": "python",
   "name": "python3"
  },
  "language_info": {
   "codemirror_mode": {
    "name": "ipython",
    "version": 3
   },
   "file_extension": ".py",
   "mimetype": "text/x-python",
   "name": "python",
   "nbconvert_exporter": "python",
   "pygments_lexer": "ipython3",
   "version": "3.6.5"
  }
 },
 "nbformat": 4,
 "nbformat_minor": 2
}
